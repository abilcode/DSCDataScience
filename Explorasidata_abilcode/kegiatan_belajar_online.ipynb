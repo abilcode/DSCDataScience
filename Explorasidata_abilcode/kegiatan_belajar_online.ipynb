{
  "nbformat": 4,
  "nbformat_minor": 0,
  "metadata": {
    "colab": {
      "name": "kegiatan_belajar_online.ipynb",
      "provenance": [],
      "collapsed_sections": [
        "ibOAk27uVAWh",
        "KfvOBeWatK8p"
      ]
    },
    "kernelspec": {
      "name": "python3",
      "display_name": "Python 3"
    }
  },
  "cells": [
    {
      "cell_type": "markdown",
      "metadata": {
        "id": "8yzFBcp6xsyH"
      },
      "source": [
        "<ul>\n",
        "<li>Nama   : Muhammad Nabil Fadhlurrahman </li>\n",
        "<li>Nim    : 10119065</li>\n",
        "<li>Tanggal: Minggu, 8 Nov 2020</li>\n",
        "<li>Jurusan: Matematika</li>\n",
        "<li>Sumber Data : Melakukan survey sendiri</li>\n",
        "</ul>"
      ]
    },
    {
      "cell_type": "code",
      "metadata": {
        "id": "xp1cvQ1m0dLC"
      },
      "source": [
        "'''\n",
        "Data yang digunakan merupakan data hasil survey pribadi.dengan pertanyaan sebagai berikut ....\n",
        "'Nama (Inisial)', 'Jenis Kelamin',\n",
        "       'Fakultas/Jurusan (Untuk TPB ITB isi jurusan dengan TPB ITB)',\n",
        "       'Tahun ke berapa di kuliah?', 'Asal Universitas', 'Domisili',\n",
        "       'Berapa lama Anda menghabiskan waktu untuk belajar dalam sehari selain pada waktu kuliah?',\n",
        "       'Berapa persen materi yang diberikan saat pembelajaran sinkron yang disimak oleh Anda? (Pembelajaran tatap muka, contoh : gmeet, webinar, dll)',\n",
        "       'Berapa persen materi yang diberikan saat pembelajaran asinkron yang disimak oleh Anda? (Pembelajaran mandiri tanpa ada interaksi langsung dengan pemateri, contoh : video youtube, modul perkuliahan)',\n",
        "       'Seberapa sulit materi kuliah yang diberikan?',\n",
        "       'Seberapa sering diberikan Tugas/PR/Kuis?',\n",
        "       'Seberapa mudah akses materi perkuliahan lewat platform LMS? ',\n",
        "       'Berapa lama dalam sehari Anda melakukan kegiatan di luar akademik? (Kegiatan organisasi baik di UKM atau himpunan)',\n",
        "       'Apakah ketersediaan kuota/Internet cukup memadai untuk menunjang kegiatan pembelajaran?',\n",
        "       'Berapa lama Anda menghabiskan waktu untuk istirahat dalam sehari saat waktu kuliah',\n",
        "       'Pada jam berapa Anda biasanya tidur di waktu malam saat waktu kuliah?'],\n",
        "      \n",
        "      Yang nantinya data ini akan di klaster sesuai jawaban yang ada... \n",
        "      Tujuan dari survey ini sebenernya ingin membuat sebuah model prediksi pemahaman mahasiswa saat pembelajaran online dengan beberapa variable yang di jadikan sebagai variable prediktor...\n",
        "      Bisa digunakan untuk berintrokspeksi. Tentunya penelitian dan pemodelan ini memiliki banyak sekali asumsi...\n",
        "\n",
        "      Kesimpuan :\n",
        "      model ini belum cukup baik memprediksi, kedepan akan dilakukan pengamatan lebih dan mendalam terkait model prediksi kita\n",
        "'''"
      ],
      "execution_count": null,
      "outputs": []
    },
    {
      "cell_type": "markdown",
      "metadata": {
        "id": "815xjaidNcIg"
      },
      "source": [
        "# **Survey Kegiatan Belajar Online**"
      ]
    },
    {
      "cell_type": "code",
      "metadata": {
        "id": "1Wh6ZhB_mEHR"
      },
      "source": [
        "import pandas as pd\n",
        "import seaborn as sns\n",
        "import matplotlib.pyplot as plt\n",
        "import numpy as np"
      ],
      "execution_count": 86,
      "outputs": []
    },
    {
      "cell_type": "markdown",
      "metadata": {
        "id": "Wg4_QIjumZ4_"
      },
      "source": [
        "## **Data Processing**"
      ]
    },
    {
      "cell_type": "markdown",
      "metadata": {
        "id": "ibOAk27uVAWh"
      },
      "source": [
        "### Pre-Cleaning Data"
      ]
    },
    {
      "cell_type": "code",
      "metadata": {
        "id": "WsBESSVjmZTg",
        "outputId": "872590ae-c5c5-4b9f-9c2b-a9fd434c078e",
        "colab": {
          "base_uri": "https://localhost:8080/",
          "height": 932
        }
      },
      "source": [
        "df = pd.read_csv('https://docs.google.com/spreadsheets/d/e/2PACX-1vRmspUge3sARqEcPP9QeuR6LhLzDZyRxoP8OC5wRVq92uv9LrCOn_w-Df-hlsmYo_6VltKrIgiWf6Bf/pub?output=csv')\n",
        "df"
      ],
      "execution_count": 87,
      "outputs": [
        {
          "output_type": "execute_result",
          "data": {
            "text/html": [
              "<div>\n",
              "<style scoped>\n",
              "    .dataframe tbody tr th:only-of-type {\n",
              "        vertical-align: middle;\n",
              "    }\n",
              "\n",
              "    .dataframe tbody tr th {\n",
              "        vertical-align: top;\n",
              "    }\n",
              "\n",
              "    .dataframe thead th {\n",
              "        text-align: right;\n",
              "    }\n",
              "</style>\n",
              "<table border=\"1\" class=\"dataframe\">\n",
              "  <thead>\n",
              "    <tr style=\"text-align: right;\">\n",
              "      <th></th>\n",
              "      <th>Timestamp</th>\n",
              "      <th>Nama (Inisial)</th>\n",
              "      <th>Jenis Kelamin</th>\n",
              "      <th>Fakultas/Jurusan (Untuk TPB ITB isi jurusan dengan TPB ITB)</th>\n",
              "      <th>Tahun ke berapa di kuliah?</th>\n",
              "      <th>Asal Universitas</th>\n",
              "      <th>Domisili</th>\n",
              "      <th>Berapa lama Anda menghabiskan waktu untuk belajar dalam sehari selain pada waktu kuliah?</th>\n",
              "      <th>Berapa persen materi yang diberikan saat pembelajaran sinkron yang disimak oleh Anda? (Pembelajaran tatap muka, contoh : gmeet, webinar, dll)</th>\n",
              "      <th>Berapa persen materi yang diberikan saat pembelajaran asinkron yang disimak oleh Anda? (Pembelajaran mandiri tanpa ada interaksi langsung dengan pemateri, contoh : video youtube, modul perkuliahan)</th>\n",
              "      <th>Seberapa sulit materi kuliah yang diberikan?</th>\n",
              "      <th>Seberapa sering diberikan Tugas/PR/Kuis?</th>\n",
              "      <th>Seberapa mudah akses materi perkuliahan lewat platform LMS?</th>\n",
              "      <th>Berapa lama dalam sehari Anda melakukan kegiatan di luar akademik? (Kegiatan organisasi baik di UKM atau himpunan)</th>\n",
              "      <th>Apakah ketersediaan kuota/Internet cukup memadai untuk menunjang kegiatan pembelajaran?</th>\n",
              "      <th>Berapa lama Anda menghabiskan waktu untuk istirahat dalam sehari saat waktu kuliah</th>\n",
              "      <th>Pada jam berapa Anda biasanya tidur di waktu malam saat waktu kuliah?</th>\n",
              "    </tr>\n",
              "  </thead>\n",
              "  <tbody>\n",
              "    <tr>\n",
              "      <th>0</th>\n",
              "      <td>05/11/2020 17:08:11</td>\n",
              "      <td>Ria</td>\n",
              "      <td>Perempuan</td>\n",
              "      <td>Matematika</td>\n",
              "      <td>2</td>\n",
              "      <td>ITB</td>\n",
              "      <td>Jawa Tengah</td>\n",
              "      <td>91 - 120 menit</td>\n",
              "      <td>81 - 100%</td>\n",
              "      <td>81% - 100%</td>\n",
              "      <td>2</td>\n",
              "      <td>3</td>\n",
              "      <td>4</td>\n",
              "      <td>151 - 180 menit</td>\n",
              "      <td>4</td>\n",
              "      <td>151 - 180 menit</td>\n",
              "      <td>22.00 - 23.00 WIB</td>\n",
              "    </tr>\n",
              "    <tr>\n",
              "      <th>1</th>\n",
              "      <td>05/11/2020 17:08:17</td>\n",
              "      <td>b</td>\n",
              "      <td>Laki-laki</td>\n",
              "      <td>FMIPA/Aktuaria</td>\n",
              "      <td>2</td>\n",
              "      <td>ITB</td>\n",
              "      <td>Jakarta</td>\n",
              "      <td>31 - 60 menit</td>\n",
              "      <td>61 - 80%</td>\n",
              "      <td>21 - 40%</td>\n",
              "      <td>4</td>\n",
              "      <td>3</td>\n",
              "      <td>3</td>\n",
              "      <td>61 - 90 menit</td>\n",
              "      <td>4</td>\n",
              "      <td>61 - 90 menit</td>\n",
              "      <td>00.00 - 01.00 WIB</td>\n",
              "    </tr>\n",
              "    <tr>\n",
              "      <th>2</th>\n",
              "      <td>05/11/2020 17:09:29</td>\n",
              "      <td>danzel</td>\n",
              "      <td>Laki-laki</td>\n",
              "      <td>Matematika</td>\n",
              "      <td>2</td>\n",
              "      <td>ITB</td>\n",
              "      <td>Cimahi</td>\n",
              "      <td>0 - 30 menit</td>\n",
              "      <td>21 - 40%</td>\n",
              "      <td>0 - 20%</td>\n",
              "      <td>2</td>\n",
              "      <td>4</td>\n",
              "      <td>5</td>\n",
              "      <td>61 - 90 menit</td>\n",
              "      <td>2</td>\n",
              "      <td>151 - 180 menit</td>\n",
              "      <td>20.00 - 21.00 WIB</td>\n",
              "    </tr>\n",
              "    <tr>\n",
              "      <th>3</th>\n",
              "      <td>05/11/2020 17:11:28</td>\n",
              "      <td>hfy</td>\n",
              "      <td>Perempuan</td>\n",
              "      <td>Aktuaria</td>\n",
              "      <td>2</td>\n",
              "      <td>ITB</td>\n",
              "      <td>Bandung</td>\n",
              "      <td>121 - 150 menit</td>\n",
              "      <td>0 - 20 %</td>\n",
              "      <td>81% - 100%</td>\n",
              "      <td>2</td>\n",
              "      <td>4</td>\n",
              "      <td>3</td>\n",
              "      <td>61 - 90 menit</td>\n",
              "      <td>5</td>\n",
              "      <td>151 - 180 menit</td>\n",
              "      <td>02.00 - 03.00 WIB</td>\n",
              "    </tr>\n",
              "    <tr>\n",
              "      <th>4</th>\n",
              "      <td>05/11/2020 17:16:53</td>\n",
              "      <td>AP</td>\n",
              "      <td>Laki-laki</td>\n",
              "      <td>FTTM/TG</td>\n",
              "      <td>2</td>\n",
              "      <td>ITB</td>\n",
              "      <td>Denpasar, Bali</td>\n",
              "      <td>151 - 180 menit</td>\n",
              "      <td>61 - 80%</td>\n",
              "      <td>81% - 100%</td>\n",
              "      <td>2</td>\n",
              "      <td>5</td>\n",
              "      <td>5</td>\n",
              "      <td>151 - 180 menit</td>\n",
              "      <td>5</td>\n",
              "      <td>91 - 120 menit</td>\n",
              "      <td>02.00 - 03.00 WIB</td>\n",
              "    </tr>\n",
              "    <tr>\n",
              "      <th>...</th>\n",
              "      <td>...</td>\n",
              "      <td>...</td>\n",
              "      <td>...</td>\n",
              "      <td>...</td>\n",
              "      <td>...</td>\n",
              "      <td>...</td>\n",
              "      <td>...</td>\n",
              "      <td>...</td>\n",
              "      <td>...</td>\n",
              "      <td>...</td>\n",
              "      <td>...</td>\n",
              "      <td>...</td>\n",
              "      <td>...</td>\n",
              "      <td>...</td>\n",
              "      <td>...</td>\n",
              "      <td>...</td>\n",
              "      <td>...</td>\n",
              "    </tr>\n",
              "    <tr>\n",
              "      <th>104</th>\n",
              "      <td>09/11/2020 7:38:14</td>\n",
              "      <td>T</td>\n",
              "      <td>Laki-laki</td>\n",
              "      <td>FMIPA/Tpb itb</td>\n",
              "      <td>1</td>\n",
              "      <td>Itb</td>\n",
              "      <td>Inderapura</td>\n",
              "      <td>61 - 90 menit</td>\n",
              "      <td>41 - 60%</td>\n",
              "      <td>61 - 80%</td>\n",
              "      <td>3</td>\n",
              "      <td>4</td>\n",
              "      <td>2</td>\n",
              "      <td>31 - 60 menit</td>\n",
              "      <td>2</td>\n",
              "      <td>31 - 60 menit</td>\n",
              "      <td>01.00 - 02.00 WIB</td>\n",
              "    </tr>\n",
              "    <tr>\n",
              "      <th>105</th>\n",
              "      <td>09/11/2020 11:34:33</td>\n",
              "      <td>Fayez Gatri</td>\n",
              "      <td>Laki-laki</td>\n",
              "      <td>FTMD/Teknik Mesin</td>\n",
              "      <td>2</td>\n",
              "      <td>Institut Teknologi Bandung</td>\n",
              "      <td>Tangerang Selatan</td>\n",
              "      <td>91 - 120 menit</td>\n",
              "      <td>21 - 40%</td>\n",
              "      <td>81% - 100%</td>\n",
              "      <td>2</td>\n",
              "      <td>5</td>\n",
              "      <td>3</td>\n",
              "      <td>61 - 90 menit</td>\n",
              "      <td>4</td>\n",
              "      <td>91 - 120 menit</td>\n",
              "      <td>00.00 - 01.00 WIB</td>\n",
              "    </tr>\n",
              "    <tr>\n",
              "      <th>106</th>\n",
              "      <td>09/11/2020 16:37:58</td>\n",
              "      <td>VH</td>\n",
              "      <td>Laki-laki</td>\n",
              "      <td>FMIPA/Aktuaria</td>\n",
              "      <td>2</td>\n",
              "      <td>ITB</td>\n",
              "      <td>Pontianak</td>\n",
              "      <td>91 - 120 menit</td>\n",
              "      <td>41 - 60%</td>\n",
              "      <td>41 - 60%</td>\n",
              "      <td>4</td>\n",
              "      <td>3</td>\n",
              "      <td>4</td>\n",
              "      <td>61 - 90 menit</td>\n",
              "      <td>5</td>\n",
              "      <td>61 - 90 menit</td>\n",
              "      <td>01.00 - 02.00 WIB</td>\n",
              "    </tr>\n",
              "    <tr>\n",
              "      <th>107</th>\n",
              "      <td>09/11/2020 16:48:59</td>\n",
              "      <td>Agung</td>\n",
              "      <td>Laki-laki</td>\n",
              "      <td>JTEIF/IF</td>\n",
              "      <td>3</td>\n",
              "      <td>ITERA</td>\n",
              "      <td>Bandar Lampung</td>\n",
              "      <td>121 - 150 menit</td>\n",
              "      <td>61 - 80%</td>\n",
              "      <td>41 - 60%</td>\n",
              "      <td>3</td>\n",
              "      <td>4</td>\n",
              "      <td>4</td>\n",
              "      <td>61 - 90 menit</td>\n",
              "      <td>3</td>\n",
              "      <td>31 - 60 menit</td>\n",
              "      <td>23.00 - 00.00 WIB</td>\n",
              "    </tr>\n",
              "    <tr>\n",
              "      <th>108</th>\n",
              "      <td>11/11/2020 6:07:45</td>\n",
              "      <td>Lia</td>\n",
              "      <td>Perempuan</td>\n",
              "      <td>FMIPA/Matematika</td>\n",
              "      <td>2</td>\n",
              "      <td>ITB</td>\n",
              "      <td>Banten</td>\n",
              "      <td>61 - 90 menit</td>\n",
              "      <td>21 - 40%</td>\n",
              "      <td>61 - 80%</td>\n",
              "      <td>2</td>\n",
              "      <td>3</td>\n",
              "      <td>4</td>\n",
              "      <td>0 - 30 menit</td>\n",
              "      <td>4</td>\n",
              "      <td>31 - 60 menit</td>\n",
              "      <td>22.00 - 23.00 WIB</td>\n",
              "    </tr>\n",
              "  </tbody>\n",
              "</table>\n",
              "<p>109 rows × 17 columns</p>\n",
              "</div>"
            ],
            "text/plain": [
              "               Timestamp  ... Pada jam berapa Anda biasanya tidur di waktu malam saat waktu kuliah?\n",
              "0    05/11/2020 17:08:11  ...                                  22.00 - 23.00 WIB                   \n",
              "1    05/11/2020 17:08:17  ...                                  00.00 - 01.00 WIB                   \n",
              "2    05/11/2020 17:09:29  ...                                  20.00 - 21.00 WIB                   \n",
              "3    05/11/2020 17:11:28  ...                                  02.00 - 03.00 WIB                   \n",
              "4    05/11/2020 17:16:53  ...                                  02.00 - 03.00 WIB                   \n",
              "..                   ...  ...                                                ...                   \n",
              "104   09/11/2020 7:38:14  ...                                  01.00 - 02.00 WIB                   \n",
              "105  09/11/2020 11:34:33  ...                                  00.00 - 01.00 WIB                   \n",
              "106  09/11/2020 16:37:58  ...                                  01.00 - 02.00 WIB                   \n",
              "107  09/11/2020 16:48:59  ...                                  23.00 - 00.00 WIB                   \n",
              "108   11/11/2020 6:07:45  ...                                  22.00 - 23.00 WIB                   \n",
              "\n",
              "[109 rows x 17 columns]"
            ]
          },
          "metadata": {
            "tags": []
          },
          "execution_count": 87
        }
      ]
    },
    {
      "cell_type": "code",
      "metadata": {
        "id": "cPsrExhiqPx_",
        "outputId": "188a0223-6351-488c-d6d3-bd2ddfab47e8",
        "colab": {
          "base_uri": "https://localhost:8080/"
        }
      },
      "source": [
        "df.columns"
      ],
      "execution_count": 88,
      "outputs": [
        {
          "output_type": "execute_result",
          "data": {
            "text/plain": [
              "Index(['Timestamp', 'Nama (Inisial)', 'Jenis Kelamin',\n",
              "       'Fakultas/Jurusan (Untuk TPB ITB isi jurusan dengan TPB ITB)',\n",
              "       'Tahun ke berapa di kuliah?', 'Asal Universitas', 'Domisili',\n",
              "       'Berapa lama Anda menghabiskan waktu untuk belajar dalam sehari selain pada waktu kuliah?',\n",
              "       'Berapa persen materi yang diberikan saat pembelajaran sinkron yang disimak oleh Anda? (Pembelajaran tatap muka, contoh : gmeet, webinar, dll)',\n",
              "       'Berapa persen materi yang diberikan saat pembelajaran asinkron yang disimak oleh Anda? (Pembelajaran mandiri tanpa ada interaksi langsung dengan pemateri, contoh : video youtube, modul perkuliahan)',\n",
              "       'Seberapa sulit materi kuliah yang diberikan?',\n",
              "       'Seberapa sering diberikan Tugas/PR/Kuis?',\n",
              "       'Seberapa mudah akses materi perkuliahan lewat platform LMS? ',\n",
              "       'Berapa lama dalam sehari Anda melakukan kegiatan di luar akademik? (Kegiatan organisasi baik di UKM atau himpunan)',\n",
              "       'Apakah ketersediaan kuota/Internet cukup memadai untuk menunjang kegiatan pembelajaran?',\n",
              "       'Berapa lama Anda menghabiskan waktu untuk istirahat dalam sehari saat waktu kuliah',\n",
              "       'Pada jam berapa Anda biasanya tidur di waktu malam saat waktu kuliah?'],\n",
              "      dtype='object')"
            ]
          },
          "metadata": {
            "tags": []
          },
          "execution_count": 88
        }
      ]
    },
    {
      "cell_type": "code",
      "metadata": {
        "id": "YR_nncIwqR1u",
        "outputId": "86bc7e0f-b2a0-4fa3-e4b7-0975a23d7999",
        "colab": {
          "base_uri": "https://localhost:8080/"
        }
      },
      "source": [
        "df1 = df.drop(['Timestamp', 'Nama (Inisial)', 'Jenis Kelamin','Fakultas/Jurusan (Untuk TPB ITB isi jurusan dengan TPB ITB)','Domisili','Asal Universitas'],axis=1)\n",
        "df1.info()"
      ],
      "execution_count": 89,
      "outputs": [
        {
          "output_type": "stream",
          "text": [
            "<class 'pandas.core.frame.DataFrame'>\n",
            "RangeIndex: 109 entries, 0 to 108\n",
            "Data columns (total 11 columns):\n",
            " #   Column                                                                                                                                                                                                 Non-Null Count  Dtype \n",
            "---  ------                                                                                                                                                                                                 --------------  ----- \n",
            " 0   Tahun ke berapa di kuliah?                                                                                                                                                                             109 non-null    object\n",
            " 1   Berapa lama Anda menghabiskan waktu untuk belajar dalam sehari selain pada waktu kuliah?                                                                                                               109 non-null    object\n",
            " 2   Berapa persen materi yang diberikan saat pembelajaran sinkron yang disimak oleh Anda? (Pembelajaran tatap muka, contoh : gmeet, webinar, dll)                                                          109 non-null    object\n",
            " 3   Berapa persen materi yang diberikan saat pembelajaran asinkron yang disimak oleh Anda? (Pembelajaran mandiri tanpa ada interaksi langsung dengan pemateri, contoh : video youtube, modul perkuliahan)  109 non-null    object\n",
            " 4   Seberapa sulit materi kuliah yang diberikan?                                                                                                                                                           109 non-null    int64 \n",
            " 5   Seberapa sering diberikan Tugas/PR/Kuis?                                                                                                                                                               109 non-null    int64 \n",
            " 6   Seberapa mudah akses materi perkuliahan lewat platform LMS?                                                                                                                                            109 non-null    int64 \n",
            " 7   Berapa lama dalam sehari Anda melakukan kegiatan di luar akademik? (Kegiatan organisasi baik di UKM atau himpunan)                                                                                     109 non-null    object\n",
            " 8   Apakah ketersediaan kuota/Internet cukup memadai untuk menunjang kegiatan pembelajaran?                                                                                                                109 non-null    int64 \n",
            " 9   Berapa lama Anda menghabiskan waktu untuk istirahat dalam sehari saat waktu kuliah                                                                                                                     109 non-null    object\n",
            " 10  Pada jam berapa Anda biasanya tidur di waktu malam saat waktu kuliah?                                                                                                                                  109 non-null    object\n",
            "dtypes: int64(4), object(7)\n",
            "memory usage: 9.5+ KB\n"
          ],
          "name": "stdout"
        }
      ]
    },
    {
      "cell_type": "code",
      "metadata": {
        "id": "ti4YNj6QswdO",
        "outputId": "194bf334-12fa-4c4a-c3e6-5bf2ce8b7aaa",
        "colab": {
          "base_uri": "https://localhost:8080/",
          "height": 419
        }
      },
      "source": [
        "df1.columns = ['tahun','belajar_diluar_kuliah','sinkron','asinkron','kesulitan','frekuensi_beban','kemudahan_akses','kegiatan_nonakademik','kuota','istirahat','jam_tidur']\n",
        "df1"
      ],
      "execution_count": 90,
      "outputs": [
        {
          "output_type": "execute_result",
          "data": {
            "text/html": [
              "<div>\n",
              "<style scoped>\n",
              "    .dataframe tbody tr th:only-of-type {\n",
              "        vertical-align: middle;\n",
              "    }\n",
              "\n",
              "    .dataframe tbody tr th {\n",
              "        vertical-align: top;\n",
              "    }\n",
              "\n",
              "    .dataframe thead th {\n",
              "        text-align: right;\n",
              "    }\n",
              "</style>\n",
              "<table border=\"1\" class=\"dataframe\">\n",
              "  <thead>\n",
              "    <tr style=\"text-align: right;\">\n",
              "      <th></th>\n",
              "      <th>tahun</th>\n",
              "      <th>belajar_diluar_kuliah</th>\n",
              "      <th>sinkron</th>\n",
              "      <th>asinkron</th>\n",
              "      <th>kesulitan</th>\n",
              "      <th>frekuensi_beban</th>\n",
              "      <th>kemudahan_akses</th>\n",
              "      <th>kegiatan_nonakademik</th>\n",
              "      <th>kuota</th>\n",
              "      <th>istirahat</th>\n",
              "      <th>jam_tidur</th>\n",
              "    </tr>\n",
              "  </thead>\n",
              "  <tbody>\n",
              "    <tr>\n",
              "      <th>0</th>\n",
              "      <td>2</td>\n",
              "      <td>91 - 120 menit</td>\n",
              "      <td>81 - 100%</td>\n",
              "      <td>81% - 100%</td>\n",
              "      <td>2</td>\n",
              "      <td>3</td>\n",
              "      <td>4</td>\n",
              "      <td>151 - 180 menit</td>\n",
              "      <td>4</td>\n",
              "      <td>151 - 180 menit</td>\n",
              "      <td>22.00 - 23.00 WIB</td>\n",
              "    </tr>\n",
              "    <tr>\n",
              "      <th>1</th>\n",
              "      <td>2</td>\n",
              "      <td>31 - 60 menit</td>\n",
              "      <td>61 - 80%</td>\n",
              "      <td>21 - 40%</td>\n",
              "      <td>4</td>\n",
              "      <td>3</td>\n",
              "      <td>3</td>\n",
              "      <td>61 - 90 menit</td>\n",
              "      <td>4</td>\n",
              "      <td>61 - 90 menit</td>\n",
              "      <td>00.00 - 01.00 WIB</td>\n",
              "    </tr>\n",
              "    <tr>\n",
              "      <th>2</th>\n",
              "      <td>2</td>\n",
              "      <td>0 - 30 menit</td>\n",
              "      <td>21 - 40%</td>\n",
              "      <td>0 - 20%</td>\n",
              "      <td>2</td>\n",
              "      <td>4</td>\n",
              "      <td>5</td>\n",
              "      <td>61 - 90 menit</td>\n",
              "      <td>2</td>\n",
              "      <td>151 - 180 menit</td>\n",
              "      <td>20.00 - 21.00 WIB</td>\n",
              "    </tr>\n",
              "    <tr>\n",
              "      <th>3</th>\n",
              "      <td>2</td>\n",
              "      <td>121 - 150 menit</td>\n",
              "      <td>0 - 20 %</td>\n",
              "      <td>81% - 100%</td>\n",
              "      <td>2</td>\n",
              "      <td>4</td>\n",
              "      <td>3</td>\n",
              "      <td>61 - 90 menit</td>\n",
              "      <td>5</td>\n",
              "      <td>151 - 180 menit</td>\n",
              "      <td>02.00 - 03.00 WIB</td>\n",
              "    </tr>\n",
              "    <tr>\n",
              "      <th>4</th>\n",
              "      <td>2</td>\n",
              "      <td>151 - 180 menit</td>\n",
              "      <td>61 - 80%</td>\n",
              "      <td>81% - 100%</td>\n",
              "      <td>2</td>\n",
              "      <td>5</td>\n",
              "      <td>5</td>\n",
              "      <td>151 - 180 menit</td>\n",
              "      <td>5</td>\n",
              "      <td>91 - 120 menit</td>\n",
              "      <td>02.00 - 03.00 WIB</td>\n",
              "    </tr>\n",
              "    <tr>\n",
              "      <th>...</th>\n",
              "      <td>...</td>\n",
              "      <td>...</td>\n",
              "      <td>...</td>\n",
              "      <td>...</td>\n",
              "      <td>...</td>\n",
              "      <td>...</td>\n",
              "      <td>...</td>\n",
              "      <td>...</td>\n",
              "      <td>...</td>\n",
              "      <td>...</td>\n",
              "      <td>...</td>\n",
              "    </tr>\n",
              "    <tr>\n",
              "      <th>104</th>\n",
              "      <td>1</td>\n",
              "      <td>61 - 90 menit</td>\n",
              "      <td>41 - 60%</td>\n",
              "      <td>61 - 80%</td>\n",
              "      <td>3</td>\n",
              "      <td>4</td>\n",
              "      <td>2</td>\n",
              "      <td>31 - 60 menit</td>\n",
              "      <td>2</td>\n",
              "      <td>31 - 60 menit</td>\n",
              "      <td>01.00 - 02.00 WIB</td>\n",
              "    </tr>\n",
              "    <tr>\n",
              "      <th>105</th>\n",
              "      <td>2</td>\n",
              "      <td>91 - 120 menit</td>\n",
              "      <td>21 - 40%</td>\n",
              "      <td>81% - 100%</td>\n",
              "      <td>2</td>\n",
              "      <td>5</td>\n",
              "      <td>3</td>\n",
              "      <td>61 - 90 menit</td>\n",
              "      <td>4</td>\n",
              "      <td>91 - 120 menit</td>\n",
              "      <td>00.00 - 01.00 WIB</td>\n",
              "    </tr>\n",
              "    <tr>\n",
              "      <th>106</th>\n",
              "      <td>2</td>\n",
              "      <td>91 - 120 menit</td>\n",
              "      <td>41 - 60%</td>\n",
              "      <td>41 - 60%</td>\n",
              "      <td>4</td>\n",
              "      <td>3</td>\n",
              "      <td>4</td>\n",
              "      <td>61 - 90 menit</td>\n",
              "      <td>5</td>\n",
              "      <td>61 - 90 menit</td>\n",
              "      <td>01.00 - 02.00 WIB</td>\n",
              "    </tr>\n",
              "    <tr>\n",
              "      <th>107</th>\n",
              "      <td>3</td>\n",
              "      <td>121 - 150 menit</td>\n",
              "      <td>61 - 80%</td>\n",
              "      <td>41 - 60%</td>\n",
              "      <td>3</td>\n",
              "      <td>4</td>\n",
              "      <td>4</td>\n",
              "      <td>61 - 90 menit</td>\n",
              "      <td>3</td>\n",
              "      <td>31 - 60 menit</td>\n",
              "      <td>23.00 - 00.00 WIB</td>\n",
              "    </tr>\n",
              "    <tr>\n",
              "      <th>108</th>\n",
              "      <td>2</td>\n",
              "      <td>61 - 90 menit</td>\n",
              "      <td>21 - 40%</td>\n",
              "      <td>61 - 80%</td>\n",
              "      <td>2</td>\n",
              "      <td>3</td>\n",
              "      <td>4</td>\n",
              "      <td>0 - 30 menit</td>\n",
              "      <td>4</td>\n",
              "      <td>31 - 60 menit</td>\n",
              "      <td>22.00 - 23.00 WIB</td>\n",
              "    </tr>\n",
              "  </tbody>\n",
              "</table>\n",
              "<p>109 rows × 11 columns</p>\n",
              "</div>"
            ],
            "text/plain": [
              "    tahun belajar_diluar_kuliah  ...        istirahat          jam_tidur\n",
              "0       2        91 - 120 menit  ...  151 - 180 menit  22.00 - 23.00 WIB\n",
              "1       2         31 - 60 menit  ...    61 - 90 menit  00.00 - 01.00 WIB\n",
              "2       2          0 - 30 menit  ...  151 - 180 menit  20.00 - 21.00 WIB\n",
              "3       2       121 - 150 menit  ...  151 - 180 menit  02.00 - 03.00 WIB\n",
              "4       2       151 - 180 menit  ...   91 - 120 menit  02.00 - 03.00 WIB\n",
              "..    ...                   ...  ...              ...                ...\n",
              "104     1         61 - 90 menit  ...    31 - 60 menit  01.00 - 02.00 WIB\n",
              "105     2        91 - 120 menit  ...   91 - 120 menit  00.00 - 01.00 WIB\n",
              "106     2        91 - 120 menit  ...    61 - 90 menit  01.00 - 02.00 WIB\n",
              "107     3       121 - 150 menit  ...    31 - 60 menit  23.00 - 00.00 WIB\n",
              "108     2         61 - 90 menit  ...    31 - 60 menit  22.00 - 23.00 WIB\n",
              "\n",
              "[109 rows x 11 columns]"
            ]
          },
          "metadata": {
            "tags": []
          },
          "execution_count": 90
        }
      ]
    },
    {
      "cell_type": "code",
      "metadata": {
        "id": "uwdo27kV_mtY",
        "outputId": "d568cc7d-9a5c-4882-a1a0-cbb365344a34",
        "colab": {
          "base_uri": "https://localhost:8080/"
        }
      },
      "source": [
        "df1.info()"
      ],
      "execution_count": 91,
      "outputs": [
        {
          "output_type": "stream",
          "text": [
            "<class 'pandas.core.frame.DataFrame'>\n",
            "RangeIndex: 109 entries, 0 to 108\n",
            "Data columns (total 11 columns):\n",
            " #   Column                 Non-Null Count  Dtype \n",
            "---  ------                 --------------  ----- \n",
            " 0   tahun                  109 non-null    object\n",
            " 1   belajar_diluar_kuliah  109 non-null    object\n",
            " 2   sinkron                109 non-null    object\n",
            " 3   asinkron               109 non-null    object\n",
            " 4   kesulitan              109 non-null    int64 \n",
            " 5   frekuensi_beban        109 non-null    int64 \n",
            " 6   kemudahan_akses        109 non-null    int64 \n",
            " 7   kegiatan_nonakademik   109 non-null    object\n",
            " 8   kuota                  109 non-null    int64 \n",
            " 9   istirahat              109 non-null    object\n",
            " 10  jam_tidur              109 non-null    object\n",
            "dtypes: int64(4), object(7)\n",
            "memory usage: 9.5+ KB\n"
          ],
          "name": "stdout"
        }
      ]
    },
    {
      "cell_type": "markdown",
      "metadata": {
        "id": "30uHBSKzWx5B"
      },
      "source": [
        ""
      ]
    },
    {
      "cell_type": "markdown",
      "metadata": {
        "id": "vEqmW73orSGV"
      },
      "source": [
        "### Pemrosesan kolom Tahun"
      ]
    },
    {
      "cell_type": "code",
      "metadata": {
        "id": "mq5j0NrlmrJ3",
        "outputId": "0705ba03-90e1-43d7-8f3f-540586507c53",
        "colab": {
          "base_uri": "https://localhost:8080/",
          "height": 860
        }
      },
      "source": [
        "for i in range(len(df1['tahun'])):\n",
        "  if type(df1['tahun'][i])==type('str'):\n",
        "    df1['tahun'][i]= df1['tahun'][i].lower()\n",
        "\n",
        "#Merubah Value kolom\n",
        "for i in range(len(df1['tahun'])):\n",
        "  if df1['tahun'][i] == '3' or df1['tahun'][i] == '2018' or df1['tahun'][i] == 'tahun ke 3' or df1['tahun'][i]=='1999' :\n",
        "    df1['tahun'][i] = 3\n",
        "  elif df1['tahun'][i] == '2' or df1['tahun'][i] == '2019' or df1['tahun'][i]=='duaaaa' or df1['tahun'][i]=='tahun ke 2' or df1['tahun'][i]=='kedua' or df1['tahun'][i]=='2,5':\n",
        "    df1['tahun'][i] = 2\n",
        "  elif df1['tahun'][i] =='2020':\n",
        "    df1['tahun'][i] = 1\n",
        "  else :\n",
        "    df1['tahun'][i] = int(df1['tahun'][i])\n",
        "df1['tahun_int'] =df1['tahun']\n",
        "a = df1['tahun'].value_counts().rename_axis('tahun').reset_index(name='counts')\n",
        "plt.figure(figsize=(14,5))\n",
        "plt.title('Tingkat Kuliah')\n",
        "sns.barplot(x='tahun',y='counts',data = a,hue='counts',dodge=False)\n",
        "df1[df1['tahun']=='1999'] = 3\n",
        "a = [int(i) for i in df1['tahun']]\n",
        "df1['tahun_int'] = a\n",
        "df1.tahun_int.value_counts()\n"
      ],
      "execution_count": 92,
      "outputs": [
        {
          "output_type": "stream",
          "text": [
            "/usr/local/lib/python3.6/dist-packages/ipykernel_launcher.py:3: SettingWithCopyWarning: \n",
            "A value is trying to be set on a copy of a slice from a DataFrame\n",
            "\n",
            "See the caveats in the documentation: https://pandas.pydata.org/pandas-docs/stable/user_guide/indexing.html#returning-a-view-versus-a-copy\n",
            "  This is separate from the ipykernel package so we can avoid doing imports until\n",
            "/usr/local/lib/python3.6/dist-packages/ipykernel_launcher.py:10: SettingWithCopyWarning: \n",
            "A value is trying to be set on a copy of a slice from a DataFrame\n",
            "\n",
            "See the caveats in the documentation: https://pandas.pydata.org/pandas-docs/stable/user_guide/indexing.html#returning-a-view-versus-a-copy\n",
            "  # Remove the CWD from sys.path while we load stuff.\n",
            "/usr/local/lib/python3.6/dist-packages/ipykernel_launcher.py:8: SettingWithCopyWarning: \n",
            "A value is trying to be set on a copy of a slice from a DataFrame\n",
            "\n",
            "See the caveats in the documentation: https://pandas.pydata.org/pandas-docs/stable/user_guide/indexing.html#returning-a-view-versus-a-copy\n",
            "  \n",
            "/usr/local/lib/python3.6/dist-packages/ipykernel_launcher.py:14: SettingWithCopyWarning: \n",
            "A value is trying to be set on a copy of a slice from a DataFrame\n",
            "\n",
            "See the caveats in the documentation: https://pandas.pydata.org/pandas-docs/stable/user_guide/indexing.html#returning-a-view-versus-a-copy\n",
            "  \n",
            "/usr/local/lib/python3.6/dist-packages/ipykernel_launcher.py:12: SettingWithCopyWarning: \n",
            "A value is trying to be set on a copy of a slice from a DataFrame\n",
            "\n",
            "See the caveats in the documentation: https://pandas.pydata.org/pandas-docs/stable/user_guide/indexing.html#returning-a-view-versus-a-copy\n",
            "  if sys.path[0] == '':\n"
          ],
          "name": "stderr"
        },
        {
          "output_type": "execute_result",
          "data": {
            "text/plain": [
              "2    75\n",
              "1    18\n",
              "3    15\n",
              "5     1\n",
              "Name: tahun_int, dtype: int64"
            ]
          },
          "metadata": {
            "tags": []
          },
          "execution_count": 92
        },
        {
          "output_type": "display_data",
          "data": {
            "image/png": "[encoded data removed]",
            "text/plain": [
              "<Figure size 1008x360 with 1 Axes>"
            ]
          },
          "metadata": {
            "tags": [],
            "needs_background": "light"
          }
        }
      ]
    },
    {
      "cell_type": "markdown",
      "metadata": {
        "id": "-U8UK-KEPIIM"
      },
      "source": [
        "Grafik diatas menunjukan jumlah pengisi survey untuk setiap tingkat Kuliah/ angkatan. Dapat disimpulkan diketahui bahwa pengisi survey banyak dari tingkat 2 atau angkatan ke 2019"
      ]
    },
    {
      "cell_type": "markdown",
      "metadata": {
        "id": "32UYKfb4mcH1"
      },
      "source": [
        "### Pemrosesan kolom Kemudahan Akses"
      ]
    },
    {
      "cell_type": "code",
      "metadata": {
        "id": "7GO6NPq1ma7X",
        "outputId": "e9c3feec-8753-4f8d-aeff-fcb3cb770231",
        "colab": {
          "base_uri": "https://localhost:8080/",
          "height": 204
        }
      },
      "source": [
        "dic_kemudahan_akses = {\n",
        "    'Kategori': [str(i) for i in range(1,6)],\n",
        "    'Penjelasan':['Sangat sulit','Sulit','Sedang','Mudah','Sangat Mudah']\n",
        "}\n",
        "df_dic_kemudahan_akses = pd.DataFrame(dic_kemudahan_akses)\n",
        "df_dic_kemudahan_akses"
      ],
      "execution_count": 93,
      "outputs": [
        {
          "output_type": "execute_result",
          "data": {
            "text/html": [
              "<div>\n",
              "<style scoped>\n",
              "    .dataframe tbody tr th:only-of-type {\n",
              "        vertical-align: middle;\n",
              "    }\n",
              "\n",
              "    .dataframe tbody tr th {\n",
              "        vertical-align: top;\n",
              "    }\n",
              "\n",
              "    .dataframe thead th {\n",
              "        text-align: right;\n",
              "    }\n",
              "</style>\n",
              "<table border=\"1\" class=\"dataframe\">\n",
              "  <thead>\n",
              "    <tr style=\"text-align: right;\">\n",
              "      <th></th>\n",
              "      <th>Kategori</th>\n",
              "      <th>Penjelasan</th>\n",
              "    </tr>\n",
              "  </thead>\n",
              "  <tbody>\n",
              "    <tr>\n",
              "      <th>0</th>\n",
              "      <td>1</td>\n",
              "      <td>Sangat sulit</td>\n",
              "    </tr>\n",
              "    <tr>\n",
              "      <th>1</th>\n",
              "      <td>2</td>\n",
              "      <td>Sulit</td>\n",
              "    </tr>\n",
              "    <tr>\n",
              "      <th>2</th>\n",
              "      <td>3</td>\n",
              "      <td>Sedang</td>\n",
              "    </tr>\n",
              "    <tr>\n",
              "      <th>3</th>\n",
              "      <td>4</td>\n",
              "      <td>Mudah</td>\n",
              "    </tr>\n",
              "    <tr>\n",
              "      <th>4</th>\n",
              "      <td>5</td>\n",
              "      <td>Sangat Mudah</td>\n",
              "    </tr>\n",
              "  </tbody>\n",
              "</table>\n",
              "</div>"
            ],
            "text/plain": [
              "  Kategori    Penjelasan\n",
              "0        1  Sangat sulit\n",
              "1        2         Sulit\n",
              "2        3        Sedang\n",
              "3        4         Mudah\n",
              "4        5  Sangat Mudah"
            ]
          },
          "metadata": {
            "tags": []
          },
          "execution_count": 93
        }
      ]
    },
    {
      "cell_type": "code",
      "metadata": {
        "id": "gPc8bUh6mqUj",
        "outputId": "141a0a81-cd62-4315-ed49-beafdeee4b89",
        "colab": {
          "base_uri": "https://localhost:8080/",
          "height": 629
        }
      },
      "source": [
        "a = df1['kemudahan_akses'].value_counts().rename_axis('Kemudahan akses materi').reset_index(name='counts')\n",
        "plt.figure(figsize=(14,7))\n",
        "sns.barplot(x='Kemudahan akses materi',y='counts',data=a,hue='counts',dodge=False)\n",
        "a.sort_values(by='Kemudahan akses materi')"
      ],
      "execution_count": 94,
      "outputs": [
        {
          "output_type": "execute_result",
          "data": {
            "text/html": [
              "<div>\n",
              "<style scoped>\n",
              "    .dataframe tbody tr th:only-of-type {\n",
              "        vertical-align: middle;\n",
              "    }\n",
              "\n",
              "    .dataframe tbody tr th {\n",
              "        vertical-align: top;\n",
              "    }\n",
              "\n",
              "    .dataframe thead th {\n",
              "        text-align: right;\n",
              "    }\n",
              "</style>\n",
              "<table border=\"1\" class=\"dataframe\">\n",
              "  <thead>\n",
              "    <tr style=\"text-align: right;\">\n",
              "      <th></th>\n",
              "      <th>Kemudahan akses materi</th>\n",
              "      <th>counts</th>\n",
              "    </tr>\n",
              "  </thead>\n",
              "  <tbody>\n",
              "    <tr>\n",
              "      <th>4</th>\n",
              "      <td>1</td>\n",
              "      <td>2</td>\n",
              "    </tr>\n",
              "    <tr>\n",
              "      <th>3</th>\n",
              "      <td>2</td>\n",
              "      <td>11</td>\n",
              "    </tr>\n",
              "    <tr>\n",
              "      <th>0</th>\n",
              "      <td>3</td>\n",
              "      <td>38</td>\n",
              "    </tr>\n",
              "    <tr>\n",
              "      <th>1</th>\n",
              "      <td>4</td>\n",
              "      <td>34</td>\n",
              "    </tr>\n",
              "    <tr>\n",
              "      <th>2</th>\n",
              "      <td>5</td>\n",
              "      <td>24</td>\n",
              "    </tr>\n",
              "  </tbody>\n",
              "</table>\n",
              "</div>"
            ],
            "text/plain": [
              "   Kemudahan akses materi  counts\n",
              "4                       1       2\n",
              "3                       2      11\n",
              "0                       3      38\n",
              "1                       4      34\n",
              "2                       5      24"
            ]
          },
          "metadata": {
            "tags": []
          },
          "execution_count": 94
        },
        {
          "output_type": "display_data",
          "data": {
            "image/png": "[encoded data removed]",
            "text/plain": [
              "<Figure size 1008x504 with 1 Axes>"
            ]
          },
          "metadata": {
            "tags": [],
            "needs_background": "light"
          }
        }
      ]
    },
    {
      "cell_type": "markdown",
      "metadata": {
        "id": "avv2uuqnTvnf"
      },
      "source": [
        "Dari grafik antar katagori kemudahan mengakses materi, 1 sangat mudah dan 5 sangat susah. mayoritas merasa pengaksesan materi dapat di lakukan dengan sedang.Dapat dilihat juga distribusi datanya sedikit miring atau skew ke kiri. Banyak yang menganggap bahwa materi dapat diakses dengan mudah."
      ]
    },
    {
      "cell_type": "markdown",
      "metadata": {
        "id": "VbGhX_SfoofC"
      },
      "source": [
        "### Pemrosesan kolom Kuota\n"
      ]
    },
    {
      "cell_type": "code",
      "metadata": {
        "id": "ckUY-wHFKgdF",
        "outputId": "6dfae3a6-fd0e-4203-bf61-29a3fbdc172e",
        "colab": {
          "base_uri": "https://localhost:8080/",
          "height": 204
        }
      },
      "source": [
        "dic_kuota = {\n",
        "    'Kategori': [str(i) for i in range(1,6)],\n",
        "    'Penjelasan':['Sangat sedikit','Sedikit','Sedang','Banyak','Sangat Banyak']\n",
        "}\n",
        "df_dic_kuota = pd.DataFrame(dic_kemudahan_akses)\n",
        "df_dic_kuota"
      ],
      "execution_count": 95,
      "outputs": [
        {
          "output_type": "execute_result",
          "data": {
            "text/html": [
              "<div>\n",
              "<style scoped>\n",
              "    .dataframe tbody tr th:only-of-type {\n",
              "        vertical-align: middle;\n",
              "    }\n",
              "\n",
              "    .dataframe tbody tr th {\n",
              "        vertical-align: top;\n",
              "    }\n",
              "\n",
              "    .dataframe thead th {\n",
              "        text-align: right;\n",
              "    }\n",
              "</style>\n",
              "<table border=\"1\" class=\"dataframe\">\n",
              "  <thead>\n",
              "    <tr style=\"text-align: right;\">\n",
              "      <th></th>\n",
              "      <th>Kategori</th>\n",
              "      <th>Penjelasan</th>\n",
              "    </tr>\n",
              "  </thead>\n",
              "  <tbody>\n",
              "    <tr>\n",
              "      <th>0</th>\n",
              "      <td>1</td>\n",
              "      <td>Sangat sulit</td>\n",
              "    </tr>\n",
              "    <tr>\n",
              "      <th>1</th>\n",
              "      <td>2</td>\n",
              "      <td>Sulit</td>\n",
              "    </tr>\n",
              "    <tr>\n",
              "      <th>2</th>\n",
              "      <td>3</td>\n",
              "      <td>Sedang</td>\n",
              "    </tr>\n",
              "    <tr>\n",
              "      <th>3</th>\n",
              "      <td>4</td>\n",
              "      <td>Mudah</td>\n",
              "    </tr>\n",
              "    <tr>\n",
              "      <th>4</th>\n",
              "      <td>5</td>\n",
              "      <td>Sangat Mudah</td>\n",
              "    </tr>\n",
              "  </tbody>\n",
              "</table>\n",
              "</div>"
            ],
            "text/plain": [
              "  Kategori    Penjelasan\n",
              "0        1  Sangat sulit\n",
              "1        2         Sulit\n",
              "2        3        Sedang\n",
              "3        4         Mudah\n",
              "4        5  Sangat Mudah"
            ]
          },
          "metadata": {
            "tags": []
          },
          "execution_count": 95
        }
      ]
    },
    {
      "cell_type": "code",
      "metadata": {
        "id": "62rOSNGaoruH",
        "outputId": "f13604ce-2fc6-4cf4-d384-7a1d5442ae73",
        "colab": {
          "base_uri": "https://localhost:8080/",
          "height": 459
        }
      },
      "source": [
        "a = df1['kuota'].value_counts().rename_axis('kuota').reset_index(name='counts')\n",
        "plt.figure(figsize=(14,7))\n",
        "sns.barplot(x='kuota',y='counts',data=a,hue='counts',dodge=False)\n"
      ],
      "execution_count": 96,
      "outputs": [
        {
          "output_type": "execute_result",
          "data": {
            "text/plain": [
              "<matplotlib.axes._subplots.AxesSubplot at 0x7fae056ba240>"
            ]
          },
          "metadata": {
            "tags": []
          },
          "execution_count": 96
        },
        {
          "output_type": "display_data",
          "data": {
            "image/png": "[encoded data removed]",
            "text/plain": [
              "<Figure size 1008x504 with 1 Axes>"
            ]
          },
          "metadata": {
            "tags": [],
            "needs_background": "light"
          }
        }
      ]
    },
    {
      "cell_type": "markdown",
      "metadata": {
        "id": "m8QnOsW7UjVT"
      },
      "source": [
        "Diatas merupakan grafik yang menampilkan bagaimana kuota yang dimiliki oleh pengisi suvey. Dapat di amati bahwa, mayoritas pengisi survey memiliki kemudahan/akses ke internet dengan banyak. yang ditandai dengan mayoritas dari mereka memiliki kuota yang banyak."
      ]
    },
    {
      "cell_type": "markdown",
      "metadata": {
        "id": "xXNOPjzywr6d"
      },
      "source": [
        "### Pemrosesan kolom lama waktu belajar diluar kuliah"
      ]
    },
    {
      "cell_type": "code",
      "metadata": {
        "id": "EgdCBWmh0pwE",
        "outputId": "7563069c-9785-40d7-8f52-8945df3f3da8",
        "colab": {
          "base_uri": "https://localhost:8080/",
          "height": 235
        }
      },
      "source": [
        "dic_belajar_diluar_kuliah = {\n",
        "    'Kategori': [str(i) for i in range(1,7)],\n",
        "    'Penjelasan':['0 - 30 menit','31 - 60 menit','61 - 90 menit','91 - 120 menit','121 - 150 menit','151 - 180 menit']\n",
        "}\n",
        "df_dic_belaja_diluar_kuliah = pd.DataFrame(dic_belajar_diluar_kuliah)\n",
        "df_dic_belaja_diluar_kuliah"
      ],
      "execution_count": 97,
      "outputs": [
        {
          "output_type": "execute_result",
          "data": {
            "text/html": [
              "<div>\n",
              "<style scoped>\n",
              "    .dataframe tbody tr th:only-of-type {\n",
              "        vertical-align: middle;\n",
              "    }\n",
              "\n",
              "    .dataframe tbody tr th {\n",
              "        vertical-align: top;\n",
              "    }\n",
              "\n",
              "    .dataframe thead th {\n",
              "        text-align: right;\n",
              "    }\n",
              "</style>\n",
              "<table border=\"1\" class=\"dataframe\">\n",
              "  <thead>\n",
              "    <tr style=\"text-align: right;\">\n",
              "      <th></th>\n",
              "      <th>Kategori</th>\n",
              "      <th>Penjelasan</th>\n",
              "    </tr>\n",
              "  </thead>\n",
              "  <tbody>\n",
              "    <tr>\n",
              "      <th>0</th>\n",
              "      <td>1</td>\n",
              "      <td>0 - 30 menit</td>\n",
              "    </tr>\n",
              "    <tr>\n",
              "      <th>1</th>\n",
              "      <td>2</td>\n",
              "      <td>31 - 60 menit</td>\n",
              "    </tr>\n",
              "    <tr>\n",
              "      <th>2</th>\n",
              "      <td>3</td>\n",
              "      <td>61 - 90 menit</td>\n",
              "    </tr>\n",
              "    <tr>\n",
              "      <th>3</th>\n",
              "      <td>4</td>\n",
              "      <td>91 - 120 menit</td>\n",
              "    </tr>\n",
              "    <tr>\n",
              "      <th>4</th>\n",
              "      <td>5</td>\n",
              "      <td>121 - 150 menit</td>\n",
              "    </tr>\n",
              "    <tr>\n",
              "      <th>5</th>\n",
              "      <td>6</td>\n",
              "      <td>151 - 180 menit</td>\n",
              "    </tr>\n",
              "  </tbody>\n",
              "</table>\n",
              "</div>"
            ],
            "text/plain": [
              "  Kategori       Penjelasan\n",
              "0        1     0 - 30 menit\n",
              "1        2    31 - 60 menit\n",
              "2        3    61 - 90 menit\n",
              "3        4   91 - 120 menit\n",
              "4        5  121 - 150 menit\n",
              "5        6  151 - 180 menit"
            ]
          },
          "metadata": {
            "tags": []
          },
          "execution_count": 97
        }
      ]
    },
    {
      "cell_type": "code",
      "metadata": {
        "id": "BiYnsfbtpmvm",
        "outputId": "42a6ea1a-30b3-48ca-a2f7-5fc5b40883dd",
        "colab": {
          "base_uri": "https://localhost:8080/",
          "height": 1000
        }
      },
      "source": [
        "\n",
        "df1['belajar_diluar_kuliah'].value_counts()\n",
        "for i in range(len(df1['belajar_diluar_kuliah'])):\n",
        "  if df1['belajar_diluar_kuliah'][i] == '0 - 30 menit':\n",
        "    df1['belajar_diluar_kuliah'][i] = 1\n",
        "  elif df1['belajar_diluar_kuliah'][i] == '31 - 60 menit':\n",
        "    df1['belajar_diluar_kuliah'][i] = 2\n",
        "  elif df1['belajar_diluar_kuliah'][i] == '61 - 90 menit':\n",
        "    df1['belajar_diluar_kuliah'][i] = 3\n",
        "  elif df1['belajar_diluar_kuliah'][i] == '91 - 120 menit':\n",
        "    df1['belajar_diluar_kuliah'][i] = 4\n",
        "  elif df1['belajar_diluar_kuliah'][i] == '121 - 150 menit':\n",
        "    df1['belajar_diluar_kuliah'][i] = 5\n",
        "  elif df1['belajar_diluar_kuliah'][i]=='151 - 180 menit' or df1['belajar_diluar_kuliah'][i]=='-' or df1['belajar_diluar_kuliah'][i]=='Sampe Olab' or df1['belajar_diluar_kuliah'][i]=='Tidak menentu' or df1['belajar_diluar_kuliah'][i]=='Lebih dari 3 jam' :\n",
        "    df1['belajar_diluar_kuliah'][i] = 6\n",
        "df1['belajar_diluar_kuliah_int'] = df1['belajar_diluar_kuliah']\n",
        "df1['belajar_diluar_kuliah_int'] = [int(i) for i in df1['belajar_diluar_kuliah']]\n",
        "\n",
        "a = df1['belajar_diluar_kuliah'].value_counts().rename_axis('Belajar diluar Jam Kuliah').reset_index(name='counts')\n",
        "plt.figure(figsize=(14,7))\n",
        "sns.barplot(x='Belajar diluar Jam Kuliah',y='counts',data=a,dodge=False,hue='counts')\n",
        "a.sort_values(by='Belajar diluar Jam Kuliah')"
      ],
      "execution_count": 98,
      "outputs": [
        {
          "output_type": "stream",
          "text": [
            "/usr/local/lib/python3.6/dist-packages/ipykernel_launcher.py:11: SettingWithCopyWarning: \n",
            "A value is trying to be set on a copy of a slice from a DataFrame\n",
            "\n",
            "See the caveats in the documentation: https://pandas.pydata.org/pandas-docs/stable/user_guide/indexing.html#returning-a-view-versus-a-copy\n",
            "  # This is added back by InteractiveShellApp.init_path()\n",
            "/usr/local/lib/python3.6/dist-packages/ipykernel_launcher.py:7: SettingWithCopyWarning: \n",
            "A value is trying to be set on a copy of a slice from a DataFrame\n",
            "\n",
            "See the caveats in the documentation: https://pandas.pydata.org/pandas-docs/stable/user_guide/indexing.html#returning-a-view-versus-a-copy\n",
            "  import sys\n",
            "/usr/local/lib/python3.6/dist-packages/ipykernel_launcher.py:5: SettingWithCopyWarning: \n",
            "A value is trying to be set on a copy of a slice from a DataFrame\n",
            "\n",
            "See the caveats in the documentation: https://pandas.pydata.org/pandas-docs/stable/user_guide/indexing.html#returning-a-view-versus-a-copy\n",
            "  \"\"\"\n",
            "/usr/local/lib/python3.6/dist-packages/ipykernel_launcher.py:13: SettingWithCopyWarning: \n",
            "A value is trying to be set on a copy of a slice from a DataFrame\n",
            "\n",
            "See the caveats in the documentation: https://pandas.pydata.org/pandas-docs/stable/user_guide/indexing.html#returning-a-view-versus-a-copy\n",
            "  del sys.path[0]\n",
            "/usr/local/lib/python3.6/dist-packages/ipykernel_launcher.py:15: SettingWithCopyWarning: \n",
            "A value is trying to be set on a copy of a slice from a DataFrame\n",
            "\n",
            "See the caveats in the documentation: https://pandas.pydata.org/pandas-docs/stable/user_guide/indexing.html#returning-a-view-versus-a-copy\n",
            "  from ipykernel import kernelapp as app\n",
            "/usr/local/lib/python3.6/dist-packages/ipykernel_launcher.py:9: SettingWithCopyWarning: \n",
            "A value is trying to be set on a copy of a slice from a DataFrame\n",
            "\n",
            "See the caveats in the documentation: https://pandas.pydata.org/pandas-docs/stable/user_guide/indexing.html#returning-a-view-versus-a-copy\n",
            "  if __name__ == '__main__':\n"
          ],
          "name": "stderr"
        },
        {
          "output_type": "execute_result",
          "data": {
            "text/html": [
              "<div>\n",
              "<style scoped>\n",
              "    .dataframe tbody tr th:only-of-type {\n",
              "        vertical-align: middle;\n",
              "    }\n",
              "\n",
              "    .dataframe tbody tr th {\n",
              "        vertical-align: top;\n",
              "    }\n",
              "\n",
              "    .dataframe thead th {\n",
              "        text-align: right;\n",
              "    }\n",
              "</style>\n",
              "<table border=\"1\" class=\"dataframe\">\n",
              "  <thead>\n",
              "    <tr style=\"text-align: right;\">\n",
              "      <th></th>\n",
              "      <th>Belajar diluar Jam Kuliah</th>\n",
              "      <th>counts</th>\n",
              "    </tr>\n",
              "  </thead>\n",
              "  <tbody>\n",
              "    <tr>\n",
              "      <th>3</th>\n",
              "      <td>1</td>\n",
              "      <td>15</td>\n",
              "    </tr>\n",
              "    <tr>\n",
              "      <th>2</th>\n",
              "      <td>2</td>\n",
              "      <td>16</td>\n",
              "    </tr>\n",
              "    <tr>\n",
              "      <th>1</th>\n",
              "      <td>3</td>\n",
              "      <td>19</td>\n",
              "    </tr>\n",
              "    <tr>\n",
              "      <th>0</th>\n",
              "      <td>4</td>\n",
              "      <td>36</td>\n",
              "    </tr>\n",
              "    <tr>\n",
              "      <th>5</th>\n",
              "      <td>5</td>\n",
              "      <td>9</td>\n",
              "    </tr>\n",
              "    <tr>\n",
              "      <th>4</th>\n",
              "      <td>6</td>\n",
              "      <td>14</td>\n",
              "    </tr>\n",
              "  </tbody>\n",
              "</table>\n",
              "</div>"
            ],
            "text/plain": [
              "   Belajar diluar Jam Kuliah  counts\n",
              "3                          1      15\n",
              "2                          2      16\n",
              "1                          3      19\n",
              "0                          4      36\n",
              "5                          5       9\n",
              "4                          6      14"
            ]
          },
          "metadata": {
            "tags": []
          },
          "execution_count": 98
        },
        {
          "output_type": "display_data",
          "data": {
            "image/png": "[encoded data removed]",
            "text/plain": [
              "<Figure size 1008x504 with 1 Axes>"
            ]
          },
          "metadata": {
            "tags": [],
            "needs_background": "light"
          }
        }
      ]
    },
    {
      "cell_type": "markdown",
      "metadata": {
        "id": "bLKgVIGkVCvA"
      },
      "source": [
        "Diatas merupakan data grafik pengisi survey terkait berapa lama mereka belajar di luar jam kuliah. Mayoritas mahasiswa berada pada katagori 4 dalam waktu yang di gunakan untuk belajar diluar jam kuliah, selama 1 jam setengah sampai 2 jam. "
      ]
    },
    {
      "cell_type": "markdown",
      "metadata": {
        "id": "jQtTfpIN2GFL"
      },
      "source": [
        "### Pemrosesan kolom sinkron"
      ]
    },
    {
      "cell_type": "code",
      "metadata": {
        "id": "L327iyqB4hly",
        "outputId": "861c9e0f-7b06-499c-bcbc-c1df28285976",
        "colab": {
          "base_uri": "https://localhost:8080/",
          "height": 204
        }
      },
      "source": [
        "dic_sinkron = {\n",
        "    'Kategori':[str(i) for i in range(1,6)],\n",
        "    'Penjelasan':['0 - 20 %','21 - 40%','41 - 60%','61 - 80%','81 - 100%']\n",
        "}\n",
        "df_dic_sinkron = pd.DataFrame(dic_sinkron)\n",
        "df_dic_sinkron"
      ],
      "execution_count": 99,
      "outputs": [
        {
          "output_type": "execute_result",
          "data": {
            "text/html": [
              "<div>\n",
              "<style scoped>\n",
              "    .dataframe tbody tr th:only-of-type {\n",
              "        vertical-align: middle;\n",
              "    }\n",
              "\n",
              "    .dataframe tbody tr th {\n",
              "        vertical-align: top;\n",
              "    }\n",
              "\n",
              "    .dataframe thead th {\n",
              "        text-align: right;\n",
              "    }\n",
              "</style>\n",
              "<table border=\"1\" class=\"dataframe\">\n",
              "  <thead>\n",
              "    <tr style=\"text-align: right;\">\n",
              "      <th></th>\n",
              "      <th>Kategori</th>\n",
              "      <th>Penjelasan</th>\n",
              "    </tr>\n",
              "  </thead>\n",
              "  <tbody>\n",
              "    <tr>\n",
              "      <th>0</th>\n",
              "      <td>1</td>\n",
              "      <td>0 - 20 %</td>\n",
              "    </tr>\n",
              "    <tr>\n",
              "      <th>1</th>\n",
              "      <td>2</td>\n",
              "      <td>21 - 40%</td>\n",
              "    </tr>\n",
              "    <tr>\n",
              "      <th>2</th>\n",
              "      <td>3</td>\n",
              "      <td>41 - 60%</td>\n",
              "    </tr>\n",
              "    <tr>\n",
              "      <th>3</th>\n",
              "      <td>4</td>\n",
              "      <td>61 - 80%</td>\n",
              "    </tr>\n",
              "    <tr>\n",
              "      <th>4</th>\n",
              "      <td>5</td>\n",
              "      <td>81 - 100%</td>\n",
              "    </tr>\n",
              "  </tbody>\n",
              "</table>\n",
              "</div>"
            ],
            "text/plain": [
              "  Kategori Penjelasan\n",
              "0        1   0 - 20 %\n",
              "1        2   21 - 40%\n",
              "2        3   41 - 60%\n",
              "3        4   61 - 80%\n",
              "4        5  81 - 100%"
            ]
          },
          "metadata": {
            "tags": []
          },
          "execution_count": 99
        }
      ]
    },
    {
      "cell_type": "code",
      "metadata": {
        "id": "2YN4LVLFm-Xe",
        "outputId": "9615897f-7080-4168-ce9e-82ce0fb80301",
        "colab": {
          "base_uri": "https://localhost:8080/",
          "height": 884
        }
      },
      "source": [
        "df1['sinkron'].value_counts()\n",
        "for i in range(len(df1['sinkron'])):\n",
        "  if df1['sinkron'][i] == '0 - 20 %' :\n",
        "    df1['sinkron'][i] = 1\n",
        "  elif df1['sinkron'][i] == '21 - 40%' :\n",
        "    df1['sinkron'][i] = 2\n",
        "  elif df1['sinkron'][i] == '41 - 60%' :\n",
        "    df1['sinkron'][i] = 3\n",
        "  elif df1['sinkron'][i] == '61 - 80%' :\n",
        "    df1['sinkron'][i] = 4\n",
        "  elif df1['sinkron'][i] == '81 - 100%' :\n",
        "    df1['sinkron'][i] = 5\n",
        "a = [int(i) for i in df1['sinkron']]\n",
        "df1['sinkron_int'] = a\n",
        "\n",
        "a = df1['sinkron'].value_counts().rename_axis('Belajar sinkron').reset_index(name='counts')\n",
        "plt.figure(figsize=(14,7))\n",
        "sns.barplot(x='Belajar sinkron',y='counts',data = a,hue='counts',dodge=False)"
      ],
      "execution_count": 100,
      "outputs": [
        {
          "output_type": "stream",
          "text": [
            "/usr/local/lib/python3.6/dist-packages/ipykernel_launcher.py:12: SettingWithCopyWarning: \n",
            "A value is trying to be set on a copy of a slice from a DataFrame\n",
            "\n",
            "See the caveats in the documentation: https://pandas.pydata.org/pandas-docs/stable/user_guide/indexing.html#returning-a-view-versus-a-copy\n",
            "  if sys.path[0] == '':\n",
            "/usr/local/lib/python3.6/dist-packages/ipykernel_launcher.py:10: SettingWithCopyWarning: \n",
            "A value is trying to be set on a copy of a slice from a DataFrame\n",
            "\n",
            "See the caveats in the documentation: https://pandas.pydata.org/pandas-docs/stable/user_guide/indexing.html#returning-a-view-versus-a-copy\n",
            "  # Remove the CWD from sys.path while we load stuff.\n",
            "/usr/local/lib/python3.6/dist-packages/ipykernel_launcher.py:6: SettingWithCopyWarning: \n",
            "A value is trying to be set on a copy of a slice from a DataFrame\n",
            "\n",
            "See the caveats in the documentation: https://pandas.pydata.org/pandas-docs/stable/user_guide/indexing.html#returning-a-view-versus-a-copy\n",
            "  \n",
            "/usr/local/lib/python3.6/dist-packages/ipykernel_launcher.py:4: SettingWithCopyWarning: \n",
            "A value is trying to be set on a copy of a slice from a DataFrame\n",
            "\n",
            "See the caveats in the documentation: https://pandas.pydata.org/pandas-docs/stable/user_guide/indexing.html#returning-a-view-versus-a-copy\n",
            "  after removing the cwd from sys.path.\n",
            "/usr/local/lib/python3.6/dist-packages/ipykernel_launcher.py:8: SettingWithCopyWarning: \n",
            "A value is trying to be set on a copy of a slice from a DataFrame\n",
            "\n",
            "See the caveats in the documentation: https://pandas.pydata.org/pandas-docs/stable/user_guide/indexing.html#returning-a-view-versus-a-copy\n",
            "  \n"
          ],
          "name": "stderr"
        },
        {
          "output_type": "execute_result",
          "data": {
            "text/plain": [
              "<matplotlib.axes._subplots.AxesSubplot at 0x7fae055d3358>"
            ]
          },
          "metadata": {
            "tags": []
          },
          "execution_count": 100
        },
        {
          "output_type": "display_data",
          "data": {
            "image/png": "[encoded data removed]",
            "text/plain": [
              "<Figure size 1008x504 with 1 Axes>"
            ]
          },
          "metadata": {
            "tags": [],
            "needs_background": "light"
          }
        }
      ]
    },
    {
      "cell_type": "markdown",
      "metadata": {
        "id": "O66qFBmdV4mB"
      },
      "source": [
        "Dari grafik diatas, dapat diketahui bahwa mayoritas mahasiswa berada pada katagori 3 dalam hal belajar secara sinkron, atau tingkat pemahaman yang di dapat saat belajar dikelas. Data diatas juga bersifat mirip seperti data yang normal. Artinya data ini sangat bagus. D"
      ]
    },
    {
      "cell_type": "markdown",
      "metadata": {
        "id": "00UTYdR4_2jX"
      },
      "source": [
        "### Pemrosesan kolom Frekuensi beban"
      ]
    },
    {
      "cell_type": "code",
      "metadata": {
        "id": "le6pnM98LEhF",
        "outputId": "e7419e57-ba68-4ca4-900c-87b6eafdcaeb",
        "colab": {
          "base_uri": "https://localhost:8080/",
          "height": 204
        }
      },
      "source": [
        "dic_frekuensi_beban = {\n",
        "    'Kategori': [str(i) for i in range(1,6)],\n",
        "    'Penjelasan':['Sangat Jarang','Jarang','Sedang','Banyak','Sangat Banyak']\n",
        "}\n",
        "df_dic_beban = pd.DataFrame(dic_kemudahan_akses)\n",
        "df_dic_beban"
      ],
      "execution_count": 101,
      "outputs": [
        {
          "output_type": "execute_result",
          "data": {
            "text/html": [
              "<div>\n",
              "<style scoped>\n",
              "    .dataframe tbody tr th:only-of-type {\n",
              "        vertical-align: middle;\n",
              "    }\n",
              "\n",
              "    .dataframe tbody tr th {\n",
              "        vertical-align: top;\n",
              "    }\n",
              "\n",
              "    .dataframe thead th {\n",
              "        text-align: right;\n",
              "    }\n",
              "</style>\n",
              "<table border=\"1\" class=\"dataframe\">\n",
              "  <thead>\n",
              "    <tr style=\"text-align: right;\">\n",
              "      <th></th>\n",
              "      <th>Kategori</th>\n",
              "      <th>Penjelasan</th>\n",
              "    </tr>\n",
              "  </thead>\n",
              "  <tbody>\n",
              "    <tr>\n",
              "      <th>0</th>\n",
              "      <td>1</td>\n",
              "      <td>Sangat sulit</td>\n",
              "    </tr>\n",
              "    <tr>\n",
              "      <th>1</th>\n",
              "      <td>2</td>\n",
              "      <td>Sulit</td>\n",
              "    </tr>\n",
              "    <tr>\n",
              "      <th>2</th>\n",
              "      <td>3</td>\n",
              "      <td>Sedang</td>\n",
              "    </tr>\n",
              "    <tr>\n",
              "      <th>3</th>\n",
              "      <td>4</td>\n",
              "      <td>Mudah</td>\n",
              "    </tr>\n",
              "    <tr>\n",
              "      <th>4</th>\n",
              "      <td>5</td>\n",
              "      <td>Sangat Mudah</td>\n",
              "    </tr>\n",
              "  </tbody>\n",
              "</table>\n",
              "</div>"
            ],
            "text/plain": [
              "  Kategori    Penjelasan\n",
              "0        1  Sangat sulit\n",
              "1        2         Sulit\n",
              "2        3        Sedang\n",
              "3        4         Mudah\n",
              "4        5  Sangat Mudah"
            ]
          },
          "metadata": {
            "tags": []
          },
          "execution_count": 101
        }
      ]
    },
    {
      "cell_type": "code",
      "metadata": {
        "id": "FeIxJUbNKI4f",
        "outputId": "3b19e303-e1c0-41e4-cfa5-ecafdb31d642",
        "colab": {
          "base_uri": "https://localhost:8080/",
          "height": 460
        }
      },
      "source": [
        "a = df1['frekuensi_beban'].value_counts().rename_axis('Frekuensi_tugas').reset_index(name='counts')\n",
        "plt.figure(figsize=(14,7))\n",
        "sns.barplot(x='Frekuensi_tugas',y='counts',data = a,hue='counts',dodge=False)"
      ],
      "execution_count": 102,
      "outputs": [
        {
          "output_type": "execute_result",
          "data": {
            "text/plain": [
              "<matplotlib.axes._subplots.AxesSubplot at 0x7fae055ff470>"
            ]
          },
          "metadata": {
            "tags": []
          },
          "execution_count": 102
        },
        {
          "output_type": "display_data",
          "data": {
            "image/png": "[encoded data removed]",
            "text/plain": [
              "<Figure size 1008x504 with 1 Axes>"
            ]
          },
          "metadata": {
            "tags": [],
            "needs_background": "light"
          }
        }
      ]
    },
    {
      "cell_type": "markdown",
      "metadata": {
        "id": "oj_1AbCPXkeR"
      },
      "source": [
        "Data diatas menunjukan frekuensi pemberian tugas kepada mahasiswa. menurut mahasiswa pengisi survey, banyak yang beranggapan tugas yang diberikan sangat banyak dan sering sekali diberikan. 49 merasa sangat sering diberi tugas dengan tingkat frekuensi yang tinggi."
      ]
    },
    {
      "cell_type": "markdown",
      "metadata": {
        "id": "3xfmA9tR5P_K"
      },
      "source": [
        "### Pemrosesan kolom Asinkron"
      ]
    },
    {
      "cell_type": "code",
      "metadata": {
        "id": "YBV1NouD5VQA",
        "outputId": "8ac21357-0224-42a5-b02c-3aa116f48ed6",
        "colab": {
          "base_uri": "https://localhost:8080/",
          "height": 204
        }
      },
      "source": [
        "dic_asinkron = {\n",
        "    'Kategori':[str(i) for i in range(1,6)],\n",
        "    'Penjelasan':['0 - 20 %','21 - 40%','41 - 60%','61 - 80%','81 - 100%']\n",
        "}\n",
        "df_dic_asinkron = pd.DataFrame(dic_asinkron)\n",
        "df_dic_asinkron"
      ],
      "execution_count": 103,
      "outputs": [
        {
          "output_type": "execute_result",
          "data": {
            "text/html": [
              "<div>\n",
              "<style scoped>\n",
              "    .dataframe tbody tr th:only-of-type {\n",
              "        vertical-align: middle;\n",
              "    }\n",
              "\n",
              "    .dataframe tbody tr th {\n",
              "        vertical-align: top;\n",
              "    }\n",
              "\n",
              "    .dataframe thead th {\n",
              "        text-align: right;\n",
              "    }\n",
              "</style>\n",
              "<table border=\"1\" class=\"dataframe\">\n",
              "  <thead>\n",
              "    <tr style=\"text-align: right;\">\n",
              "      <th></th>\n",
              "      <th>Kategori</th>\n",
              "      <th>Penjelasan</th>\n",
              "    </tr>\n",
              "  </thead>\n",
              "  <tbody>\n",
              "    <tr>\n",
              "      <th>0</th>\n",
              "      <td>1</td>\n",
              "      <td>0 - 20 %</td>\n",
              "    </tr>\n",
              "    <tr>\n",
              "      <th>1</th>\n",
              "      <td>2</td>\n",
              "      <td>21 - 40%</td>\n",
              "    </tr>\n",
              "    <tr>\n",
              "      <th>2</th>\n",
              "      <td>3</td>\n",
              "      <td>41 - 60%</td>\n",
              "    </tr>\n",
              "    <tr>\n",
              "      <th>3</th>\n",
              "      <td>4</td>\n",
              "      <td>61 - 80%</td>\n",
              "    </tr>\n",
              "    <tr>\n",
              "      <th>4</th>\n",
              "      <td>5</td>\n",
              "      <td>81 - 100%</td>\n",
              "    </tr>\n",
              "  </tbody>\n",
              "</table>\n",
              "</div>"
            ],
            "text/plain": [
              "  Kategori Penjelasan\n",
              "0        1   0 - 20 %\n",
              "1        2   21 - 40%\n",
              "2        3   41 - 60%\n",
              "3        4   61 - 80%\n",
              "4        5  81 - 100%"
            ]
          },
          "metadata": {
            "tags": []
          },
          "execution_count": 103
        }
      ]
    },
    {
      "cell_type": "code",
      "metadata": {
        "id": "cjbrgJpA5fIR",
        "outputId": "fd6780ad-d19e-41e3-881c-28ed88a8b7c2",
        "colab": {
          "base_uri": "https://localhost:8080/",
          "height": 884
        }
      },
      "source": [
        "for i in range(len(df1['asinkron'])):\n",
        "  if df1['asinkron'][i] == '0 - 20%' :\n",
        "    df1['asinkron'][i] = 1\n",
        "  elif df1['asinkron'][i] == '21 - 40%' :\n",
        "    df1['asinkron'][i] = 2\n",
        "  elif df1['asinkron'][i] == '41 - 60%' :\n",
        "    df1['asinkron'][i] = 3\n",
        "  elif df1['asinkron'][i] == '61 - 80%' :\n",
        "    df1['asinkron'][i] = 4\n",
        "  elif df1['asinkron'][i] == '81% - 100%' :\n",
        "    df1['asinkron'][i] = 5\n",
        "a = [int(i) for i in df1['asinkron']]\n",
        "df1['asinkron_int'] = a\n",
        "\n",
        "a = df1['asinkron'].value_counts().rename_axis('Belajar asinkron').reset_index(name='counts')\n",
        "plt.figure(figsize=(14,7))\n",
        "sns.barplot(x='Belajar asinkron',y='counts',data = a,hue='counts',dodge=False)"
      ],
      "execution_count": 104,
      "outputs": [
        {
          "output_type": "stream",
          "text": [
            "/usr/local/lib/python3.6/dist-packages/ipykernel_launcher.py:11: SettingWithCopyWarning: \n",
            "A value is trying to be set on a copy of a slice from a DataFrame\n",
            "\n",
            "See the caveats in the documentation: https://pandas.pydata.org/pandas-docs/stable/user_guide/indexing.html#returning-a-view-versus-a-copy\n",
            "  # This is added back by InteractiveShellApp.init_path()\n",
            "/usr/local/lib/python3.6/dist-packages/ipykernel_launcher.py:5: SettingWithCopyWarning: \n",
            "A value is trying to be set on a copy of a slice from a DataFrame\n",
            "\n",
            "See the caveats in the documentation: https://pandas.pydata.org/pandas-docs/stable/user_guide/indexing.html#returning-a-view-versus-a-copy\n",
            "  \"\"\"\n",
            "/usr/local/lib/python3.6/dist-packages/ipykernel_launcher.py:3: SettingWithCopyWarning: \n",
            "A value is trying to be set on a copy of a slice from a DataFrame\n",
            "\n",
            "See the caveats in the documentation: https://pandas.pydata.org/pandas-docs/stable/user_guide/indexing.html#returning-a-view-versus-a-copy\n",
            "  This is separate from the ipykernel package so we can avoid doing imports until\n",
            "/usr/local/lib/python3.6/dist-packages/ipykernel_launcher.py:7: SettingWithCopyWarning: \n",
            "A value is trying to be set on a copy of a slice from a DataFrame\n",
            "\n",
            "See the caveats in the documentation: https://pandas.pydata.org/pandas-docs/stable/user_guide/indexing.html#returning-a-view-versus-a-copy\n",
            "  import sys\n",
            "/usr/local/lib/python3.6/dist-packages/ipykernel_launcher.py:9: SettingWithCopyWarning: \n",
            "A value is trying to be set on a copy of a slice from a DataFrame\n",
            "\n",
            "See the caveats in the documentation: https://pandas.pydata.org/pandas-docs/stable/user_guide/indexing.html#returning-a-view-versus-a-copy\n",
            "  if __name__ == '__main__':\n"
          ],
          "name": "stderr"
        },
        {
          "output_type": "execute_result",
          "data": {
            "text/plain": [
              "<matplotlib.axes._subplots.AxesSubplot at 0x7fae053147f0>"
            ]
          },
          "metadata": {
            "tags": []
          },
          "execution_count": 104
        },
        {
          "output_type": "display_data",
          "data": {
            "image/png": "[encoded data removed]",
            "text/plain": [
              "<Figure size 1008x504 with 1 Axes>"
            ]
          },
          "metadata": {
            "tags": [],
            "needs_background": "light"
          }
        }
      ]
    },
    {
      "cell_type": "markdown",
      "metadata": {
        "id": "pAxbTLiVYcQw"
      },
      "source": [
        "Di atas menunjukan distribusi asinkron untuk setiap katagorinya. Dari data di dapat dua puncak, artinya data terpusat di dua titik, yaitu di kategori 2 dan 4, walaupun katagori 4 memang lebih banyak. Dapat disimpulkan bahwa kurang lebih ada dua bagian, yang mana menunjukan mahasiswa merasa mudah menerima informasi saat belajar sendiri, dan ada yang tidak."
      ]
    },
    {
      "cell_type": "markdown",
      "metadata": {
        "id": "_cwVENCv6VyK"
      },
      "source": [
        "### Pemprosessan Kegiatan non-Akademik"
      ]
    },
    {
      "cell_type": "code",
      "metadata": {
        "id": "Z_MQUOry6aRK",
        "outputId": "78e923a7-b134-4863-9ba6-d42bb089254f",
        "colab": {
          "base_uri": "https://localhost:8080/",
          "height": 235
        }
      },
      "source": [
        "dic_kegiatan_nonakademik = {\n",
        "    'Katagori':[i for i in range(1,7)],\n",
        "    'Penjelasan':['0 - 30 menit','31 - 60 menit','61 - 90 menit','91 - 120 menit','121 - 150 menit','151 - 180 menit']\n",
        "}\n",
        "df_dic_kegiatan_nonakademik = pd.DataFrame(dic_kegiatan_nonakademik)\n",
        "df_dic_kegiatan_nonakademik"
      ],
      "execution_count": 105,
      "outputs": [
        {
          "output_type": "execute_result",
          "data": {
            "text/html": [
              "<div>\n",
              "<style scoped>\n",
              "    .dataframe tbody tr th:only-of-type {\n",
              "        vertical-align: middle;\n",
              "    }\n",
              "\n",
              "    .dataframe tbody tr th {\n",
              "        vertical-align: top;\n",
              "    }\n",
              "\n",
              "    .dataframe thead th {\n",
              "        text-align: right;\n",
              "    }\n",
              "</style>\n",
              "<table border=\"1\" class=\"dataframe\">\n",
              "  <thead>\n",
              "    <tr style=\"text-align: right;\">\n",
              "      <th></th>\n",
              "      <th>Katagori</th>\n",
              "      <th>Penjelasan</th>\n",
              "    </tr>\n",
              "  </thead>\n",
              "  <tbody>\n",
              "    <tr>\n",
              "      <th>0</th>\n",
              "      <td>1</td>\n",
              "      <td>0 - 30 menit</td>\n",
              "    </tr>\n",
              "    <tr>\n",
              "      <th>1</th>\n",
              "      <td>2</td>\n",
              "      <td>31 - 60 menit</td>\n",
              "    </tr>\n",
              "    <tr>\n",
              "      <th>2</th>\n",
              "      <td>3</td>\n",
              "      <td>61 - 90 menit</td>\n",
              "    </tr>\n",
              "    <tr>\n",
              "      <th>3</th>\n",
              "      <td>4</td>\n",
              "      <td>91 - 120 menit</td>\n",
              "    </tr>\n",
              "    <tr>\n",
              "      <th>4</th>\n",
              "      <td>5</td>\n",
              "      <td>121 - 150 menit</td>\n",
              "    </tr>\n",
              "    <tr>\n",
              "      <th>5</th>\n",
              "      <td>6</td>\n",
              "      <td>151 - 180 menit</td>\n",
              "    </tr>\n",
              "  </tbody>\n",
              "</table>\n",
              "</div>"
            ],
            "text/plain": [
              "   Katagori       Penjelasan\n",
              "0         1     0 - 30 menit\n",
              "1         2    31 - 60 menit\n",
              "2         3    61 - 90 menit\n",
              "3         4   91 - 120 menit\n",
              "4         5  121 - 150 menit\n",
              "5         6  151 - 180 menit"
            ]
          },
          "metadata": {
            "tags": []
          },
          "execution_count": 105
        }
      ]
    },
    {
      "cell_type": "code",
      "metadata": {
        "id": "8w6rgmSo6pcD",
        "outputId": "46fd4529-2f69-4019-a776-cf07ca60cd7e",
        "colab": {
          "base_uri": "https://localhost:8080/",
          "height": 969
        }
      },
      "source": [
        "for i in range(len(df1['kegiatan_nonakademik'])):\n",
        "  if df1['kegiatan_nonakademik'][i] == '0 - 30 menit' or df1['kegiatan_nonakademik'][i] == 'Punten gak ikut organisasi':\n",
        "    df1['kegiatan_nonakademik'][i] = 1\n",
        "  elif df1['kegiatan_nonakademik'][i]=='31 - 60 menit' or df1['kegiatan_nonakademik'][i]=='Tidak menentu' or df1['kegiatan_nonakademik'][i]=='4-6 jam dalam satu minggu' :\n",
        "    df1['kegiatan_nonakademik'][i]=2\n",
        "  elif df1['kegiatan_nonakademik'][i] == '61 - 90 menit':\n",
        "    df1['kegiatan_nonakademik'][i] = 3\n",
        "  elif df1['kegiatan_nonakademik'][i] == '91 - 120 menit':\n",
        "    df1['kegiatan_nonakademik'][i] = 4\n",
        "  elif df1['kegiatan_nonakademik'][i] == '121 - 150 menit':\n",
        "    df1['kegiatan_nonakademik'][i] = 5\n",
        "  elif df1['kegiatan_nonakademik'][i] == '151 - 180 menit' or  df1['kegiatan_nonakademik'][i] == 'Sisanya':\n",
        "    df1['kegiatan_nonakademik'][i] = 6\n",
        "a = [int(i) for i in df1['kegiatan_nonakademik']]\n",
        "df1['kegiatan_nonakademik_int'] = a\n",
        "\n",
        "a = df1['kegiatan_nonakademik'].value_counts().rename_axis('Kegiatan non-akademik').reset_index(name='counts')\n",
        "plt.figure(figsize=(14,7))\n",
        "sns.barplot(x='Kegiatan non-akademik',y='counts',data = a,hue='counts',dodge=False)"
      ],
      "execution_count": 106,
      "outputs": [
        {
          "output_type": "stream",
          "text": [
            "/usr/local/lib/python3.6/dist-packages/ipykernel_launcher.py:13: SettingWithCopyWarning: \n",
            "A value is trying to be set on a copy of a slice from a DataFrame\n",
            "\n",
            "See the caveats in the documentation: https://pandas.pydata.org/pandas-docs/stable/user_guide/indexing.html#returning-a-view-versus-a-copy\n",
            "  del sys.path[0]\n",
            "/usr/local/lib/python3.6/dist-packages/ipykernel_launcher.py:7: SettingWithCopyWarning: \n",
            "A value is trying to be set on a copy of a slice from a DataFrame\n",
            "\n",
            "See the caveats in the documentation: https://pandas.pydata.org/pandas-docs/stable/user_guide/indexing.html#returning-a-view-versus-a-copy\n",
            "  import sys\n",
            "/usr/local/lib/python3.6/dist-packages/ipykernel_launcher.py:9: SettingWithCopyWarning: \n",
            "A value is trying to be set on a copy of a slice from a DataFrame\n",
            "\n",
            "See the caveats in the documentation: https://pandas.pydata.org/pandas-docs/stable/user_guide/indexing.html#returning-a-view-versus-a-copy\n",
            "  if __name__ == '__main__':\n",
            "/usr/local/lib/python3.6/dist-packages/ipykernel_launcher.py:11: SettingWithCopyWarning: \n",
            "A value is trying to be set on a copy of a slice from a DataFrame\n",
            "\n",
            "See the caveats in the documentation: https://pandas.pydata.org/pandas-docs/stable/user_guide/indexing.html#returning-a-view-versus-a-copy\n",
            "  # This is added back by InteractiveShellApp.init_path()\n",
            "/usr/local/lib/python3.6/dist-packages/ipykernel_launcher.py:5: SettingWithCopyWarning: \n",
            "A value is trying to be set on a copy of a slice from a DataFrame\n",
            "\n",
            "See the caveats in the documentation: https://pandas.pydata.org/pandas-docs/stable/user_guide/indexing.html#returning-a-view-versus-a-copy\n",
            "  \"\"\"\n",
            "/usr/local/lib/python3.6/dist-packages/ipykernel_launcher.py:3: SettingWithCopyWarning: \n",
            "A value is trying to be set on a copy of a slice from a DataFrame\n",
            "\n",
            "See the caveats in the documentation: https://pandas.pydata.org/pandas-docs/stable/user_guide/indexing.html#returning-a-view-versus-a-copy\n",
            "  This is separate from the ipykernel package so we can avoid doing imports until\n"
          ],
          "name": "stderr"
        },
        {
          "output_type": "execute_result",
          "data": {
            "text/plain": [
              "<matplotlib.axes._subplots.AxesSubplot at 0x7fae051b1898>"
            ]
          },
          "metadata": {
            "tags": []
          },
          "execution_count": 106
        },
        {
          "output_type": "display_data",
          "data": {
            "image/png": "[encoded data removed]",
            "text/plain": [
              "<Figure size 1008x504 with 1 Axes>"
            ]
          },
          "metadata": {
            "tags": [],
            "needs_background": "light"
          }
        }
      ]
    },
    {
      "cell_type": "markdown",
      "metadata": {
        "id": "Y45eCcoNZqma"
      },
      "source": [
        "Data diatas menunjukan distribusi mahasiswa berdasarkan katagori terkait Kegiatan non-akademik mahasiswa. Mayoritas mahasiswa berkegiatan non-akademik selam 90-120 menit per minggunya. Data skew ke arah kanan, artinya lebih banyak mahasiswa yang berkegiatan kurang dari 90-120 menit per minggu"
      ]
    },
    {
      "cell_type": "markdown",
      "metadata": {
        "id": "uYFACc1y_9nQ"
      },
      "source": [
        "### Pemrosesan kolom Istirahat"
      ]
    },
    {
      "cell_type": "code",
      "metadata": {
        "id": "7i2VEOw3AE8T",
        "outputId": "8076165e-be50-4fb1-b9f7-3e788b7c3394",
        "colab": {
          "base_uri": "https://localhost:8080/",
          "height": 235
        }
      },
      "source": [
        "dic_istirahat = {\n",
        "    'Kategori': [str(i) for i in range(1,7)],\n",
        "    'Penjelasan':['0 - 30 menit','31 - 60 menit','61 - 90 menit','91 - 120 menit','121 - 150 menit','151 - 180 menit']\n",
        "}\n",
        "df_dic_istirahat = pd.DataFrame(dic_istirahat)\n",
        "df_dic_istirahat"
      ],
      "execution_count": 107,
      "outputs": [
        {
          "output_type": "execute_result",
          "data": {
            "text/html": [
              "<div>\n",
              "<style scoped>\n",
              "    .dataframe tbody tr th:only-of-type {\n",
              "        vertical-align: middle;\n",
              "    }\n",
              "\n",
              "    .dataframe tbody tr th {\n",
              "        vertical-align: top;\n",
              "    }\n",
              "\n",
              "    .dataframe thead th {\n",
              "        text-align: right;\n",
              "    }\n",
              "</style>\n",
              "<table border=\"1\" class=\"dataframe\">\n",
              "  <thead>\n",
              "    <tr style=\"text-align: right;\">\n",
              "      <th></th>\n",
              "      <th>Kategori</th>\n",
              "      <th>Penjelasan</th>\n",
              "    </tr>\n",
              "  </thead>\n",
              "  <tbody>\n",
              "    <tr>\n",
              "      <th>0</th>\n",
              "      <td>1</td>\n",
              "      <td>0 - 30 menit</td>\n",
              "    </tr>\n",
              "    <tr>\n",
              "      <th>1</th>\n",
              "      <td>2</td>\n",
              "      <td>31 - 60 menit</td>\n",
              "    </tr>\n",
              "    <tr>\n",
              "      <th>2</th>\n",
              "      <td>3</td>\n",
              "      <td>61 - 90 menit</td>\n",
              "    </tr>\n",
              "    <tr>\n",
              "      <th>3</th>\n",
              "      <td>4</td>\n",
              "      <td>91 - 120 menit</td>\n",
              "    </tr>\n",
              "    <tr>\n",
              "      <th>4</th>\n",
              "      <td>5</td>\n",
              "      <td>121 - 150 menit</td>\n",
              "    </tr>\n",
              "    <tr>\n",
              "      <th>5</th>\n",
              "      <td>6</td>\n",
              "      <td>151 - 180 menit</td>\n",
              "    </tr>\n",
              "  </tbody>\n",
              "</table>\n",
              "</div>"
            ],
            "text/plain": [
              "  Kategori       Penjelasan\n",
              "0        1     0 - 30 menit\n",
              "1        2    31 - 60 menit\n",
              "2        3    61 - 90 menit\n",
              "3        4   91 - 120 menit\n",
              "4        5  121 - 150 menit\n",
              "5        6  151 - 180 menit"
            ]
          },
          "metadata": {
            "tags": []
          },
          "execution_count": 107
        }
      ]
    },
    {
      "cell_type": "code",
      "metadata": {
        "id": "c-xBugp-AYgh",
        "outputId": "5e43a2be-7e16-4b61-ffd5-d0da959b25cf",
        "colab": {
          "base_uri": "https://localhost:8080/",
          "height": 952
        }
      },
      "source": [
        "for i in range(len(df1['istirahat'])):\n",
        "  if df1['istirahat'][i] =='0 - 30 menit'  :\n",
        "    df1['istirahat'][i] = 1\n",
        "  elif df1['istirahat'][i] =='31 - 60 menit' or df1['istirahat'][i] =='Tidur malam? sekitar 5 jam. Tidur siang? 31 - 60 menit.' :\n",
        "    df1['istirahat'][i] = 2 \n",
        "  elif df1['istirahat'][i] =='61 - 90 menit':\n",
        "    df1['istirahat'][i] = 3\n",
        "  elif df1['istirahat'][i] =='91 - 120 menit':\n",
        "    df1['istirahat'][i] = 4\n",
        "  elif df1['istirahat'][i] =='121 - 150 menit':\n",
        "    df1['istirahat'][i] = 5\n",
        "  elif df1['istirahat'][i] =='151 - 180 menit' or df1['istirahat'][i] =='6 jam' or df1['istirahat'][i] =='5 jam' or df1['istirahat'][i] =='Sekitar 240 menit' or df1['istirahat'][i] =='Sampe fres' or df1['istirahat'][i] =='> 180 menit' or df1['istirahat'][i] =='Selama tidak kukiah atau mengerjakan tugas' or df1['istirahat'][i] =='240-330 menit' or df1['istirahat'][i] =='4-6 jam' or df1['istirahat'][i] =='Kalau sudah cape kuliah ya istirahat' :\n",
        "    df1['istirahat'][i] = 6  \n",
        "\n",
        "      \n",
        "a = df1['istirahat'].value_counts().rename_axis('Istirahat disaat di jam kuliah').reset_index(name='counts')\n",
        "a.sort_values(by='Istirahat disaat di jam kuliah',inplace=True)\n",
        "plt.figure(figsize=(14,7))\n",
        "sns.barplot(x='Istirahat disaat di jam kuliah',y='counts',data = a,hue='counts',dodge=False)\n",
        "a = [int(i) for i in df1['istirahat']]\n",
        "df1['istirahat_int'] = a"
      ],
      "execution_count": 108,
      "outputs": [
        {
          "output_type": "stream",
          "text": [
            "/usr/local/lib/python3.6/dist-packages/ipykernel_launcher.py:13: SettingWithCopyWarning: \n",
            "A value is trying to be set on a copy of a slice from a DataFrame\n",
            "\n",
            "See the caveats in the documentation: https://pandas.pydata.org/pandas-docs/stable/user_guide/indexing.html#returning-a-view-versus-a-copy\n",
            "  del sys.path[0]\n",
            "/usr/local/lib/python3.6/dist-packages/ipykernel_launcher.py:7: SettingWithCopyWarning: \n",
            "A value is trying to be set on a copy of a slice from a DataFrame\n",
            "\n",
            "See the caveats in the documentation: https://pandas.pydata.org/pandas-docs/stable/user_guide/indexing.html#returning-a-view-versus-a-copy\n",
            "  import sys\n",
            "/usr/local/lib/python3.6/dist-packages/ipykernel_launcher.py:9: SettingWithCopyWarning: \n",
            "A value is trying to be set on a copy of a slice from a DataFrame\n",
            "\n",
            "See the caveats in the documentation: https://pandas.pydata.org/pandas-docs/stable/user_guide/indexing.html#returning-a-view-versus-a-copy\n",
            "  if __name__ == '__main__':\n",
            "/usr/local/lib/python3.6/dist-packages/ipykernel_launcher.py:5: SettingWithCopyWarning: \n",
            "A value is trying to be set on a copy of a slice from a DataFrame\n",
            "\n",
            "See the caveats in the documentation: https://pandas.pydata.org/pandas-docs/stable/user_guide/indexing.html#returning-a-view-versus-a-copy\n",
            "  \"\"\"\n",
            "/usr/local/lib/python3.6/dist-packages/ipykernel_launcher.py:3: SettingWithCopyWarning: \n",
            "A value is trying to be set on a copy of a slice from a DataFrame\n",
            "\n",
            "See the caveats in the documentation: https://pandas.pydata.org/pandas-docs/stable/user_guide/indexing.html#returning-a-view-versus-a-copy\n",
            "  This is separate from the ipykernel package so we can avoid doing imports until\n",
            "/usr/local/lib/python3.6/dist-packages/ipykernel_launcher.py:11: SettingWithCopyWarning: \n",
            "A value is trying to be set on a copy of a slice from a DataFrame\n",
            "\n",
            "See the caveats in the documentation: https://pandas.pydata.org/pandas-docs/stable/user_guide/indexing.html#returning-a-view-versus-a-copy\n",
            "  # This is added back by InteractiveShellApp.init_path()\n"
          ],
          "name": "stderr"
        },
        {
          "output_type": "display_data",
          "data": {
            "image/png": "[encoded data removed]",
            "text/plain": [
              "<Figure size 1008x504 with 1 Axes>"
            ]
          },
          "metadata": {
            "tags": [],
            "needs_background": "light"
          }
        }
      ]
    },
    {
      "cell_type": "markdown",
      "metadata": {
        "id": "6iyiPOD_b2Lq"
      },
      "source": [
        "Dari data di atas, mayoritas mahasiswa berada di kategori 6 dalam hal istirahat dijam kuliah(7-18:00). mayoritas dari mereka beristirahat selama 151-180 menit"
      ]
    },
    {
      "cell_type": "code",
      "metadata": {
        "id": "vdGBIBfSZHLn",
        "outputId": "077b2597-3958-4a91-fb79-e4cf9633941d",
        "colab": {
          "base_uri": "https://localhost:8080/"
        }
      },
      "source": [
        "df1.info()"
      ],
      "execution_count": 109,
      "outputs": [
        {
          "output_type": "stream",
          "text": [
            "<class 'pandas.core.frame.DataFrame'>\n",
            "RangeIndex: 109 entries, 0 to 108\n",
            "Data columns (total 17 columns):\n",
            " #   Column                     Non-Null Count  Dtype \n",
            "---  ------                     --------------  ----- \n",
            " 0   tahun                      109 non-null    object\n",
            " 1   belajar_diluar_kuliah      109 non-null    object\n",
            " 2   sinkron                    109 non-null    object\n",
            " 3   asinkron                   109 non-null    object\n",
            " 4   kesulitan                  109 non-null    int64 \n",
            " 5   frekuensi_beban            109 non-null    int64 \n",
            " 6   kemudahan_akses            109 non-null    int64 \n",
            " 7   kegiatan_nonakademik       109 non-null    object\n",
            " 8   kuota                      109 non-null    int64 \n",
            " 9   istirahat                  109 non-null    object\n",
            " 10  jam_tidur                  109 non-null    object\n",
            " 11  tahun_int                  109 non-null    int64 \n",
            " 12  belajar_diluar_kuliah_int  109 non-null    int64 \n",
            " 13  sinkron_int                109 non-null    int64 \n",
            " 14  asinkron_int               109 non-null    int64 \n",
            " 15  kegiatan_nonakademik_int   109 non-null    int64 \n",
            " 16  istirahat_int              109 non-null    int64 \n",
            "dtypes: int64(10), object(7)\n",
            "memory usage: 14.6+ KB\n"
          ],
          "name": "stdout"
        }
      ]
    },
    {
      "cell_type": "code",
      "metadata": {
        "id": "kh5kleMhxti-"
      },
      "source": [
        ""
      ],
      "execution_count": 109,
      "outputs": []
    },
    {
      "cell_type": "markdown",
      "metadata": {
        "id": "h2XlZIGiHeFd"
      },
      "source": [
        "## **Exploratory Data Analysis**"
      ]
    },
    {
      "cell_type": "markdown",
      "metadata": {
        "id": "2h0_T2D4WUXn"
      },
      "source": [
        "### Correlation"
      ]
    },
    {
      "cell_type": "code",
      "metadata": {
        "id": "Rok9LF_8MSoK",
        "outputId": "7a7fe15b-dbb0-42ce-9f3d-70e91b5dbc7b",
        "colab": {
          "base_uri": "https://localhost:8080/"
        }
      },
      "source": [
        "df1.info()"
      ],
      "execution_count": 110,
      "outputs": [
        {
          "output_type": "stream",
          "text": [
            "<class 'pandas.core.frame.DataFrame'>\n",
            "RangeIndex: 109 entries, 0 to 108\n",
            "Data columns (total 17 columns):\n",
            " #   Column                     Non-Null Count  Dtype \n",
            "---  ------                     --------------  ----- \n",
            " 0   tahun                      109 non-null    object\n",
            " 1   belajar_diluar_kuliah      109 non-null    object\n",
            " 2   sinkron                    109 non-null    object\n",
            " 3   asinkron                   109 non-null    object\n",
            " 4   kesulitan                  109 non-null    int64 \n",
            " 5   frekuensi_beban            109 non-null    int64 \n",
            " 6   kemudahan_akses            109 non-null    int64 \n",
            " 7   kegiatan_nonakademik       109 non-null    object\n",
            " 8   kuota                      109 non-null    int64 \n",
            " 9   istirahat                  109 non-null    object\n",
            " 10  jam_tidur                  109 non-null    object\n",
            " 11  tahun_int                  109 non-null    int64 \n",
            " 12  belajar_diluar_kuliah_int  109 non-null    int64 \n",
            " 13  sinkron_int                109 non-null    int64 \n",
            " 14  asinkron_int               109 non-null    int64 \n",
            " 15  kegiatan_nonakademik_int   109 non-null    int64 \n",
            " 16  istirahat_int              109 non-null    int64 \n",
            "dtypes: int64(10), object(7)\n",
            "memory usage: 14.6+ KB\n"
          ],
          "name": "stdout"
        }
      ]
    },
    {
      "cell_type": "code",
      "metadata": {
        "id": "6hjKYcKkHg8_",
        "outputId": "e5b53963-36c2-477a-84fc-4407edfe8c56",
        "colab": {
          "base_uri": "https://localhost:8080/",
          "height": 867
        }
      },
      "source": [
        "\n",
        "a = df1.corr()\n",
        "plt.figure(figsize=(14,7))\n",
        "sns.heatmap(df1.corr(),annot=True)\n",
        "b = a['sinkron_int']\n",
        "c = df1.columns\n",
        "df_coef = pd.DataFrame(b,c)\n",
        "df_coef.drop(['tahun','belajar_diluar_kuliah','sinkron','asinkron','jam_tidur','istirahat','kegiatan_nonakademik','sinkron_int'],inplace=True)\n",
        "df_coef.reset_index(inplace=True)\n",
        "df_coef.columns = ['kategori','korelasi']\n",
        "df_coef['rank']=df_coef['korelasi'].rank(method='max',ascending=False)\n",
        "df_coef.sort_values(by='rank')\n"
      ],
      "execution_count": 111,
      "outputs": [
        {
          "output_type": "execute_result",
          "data": {
            "text/html": [
              "<div>\n",
              "<style scoped>\n",
              "    .dataframe tbody tr th:only-of-type {\n",
              "        vertical-align: middle;\n",
              "    }\n",
              "\n",
              "    .dataframe tbody tr th {\n",
              "        vertical-align: top;\n",
              "    }\n",
              "\n",
              "    .dataframe thead th {\n",
              "        text-align: right;\n",
              "    }\n",
              "</style>\n",
              "<table border=\"1\" class=\"dataframe\">\n",
              "  <thead>\n",
              "    <tr style=\"text-align: right;\">\n",
              "      <th></th>\n",
              "      <th>kategori</th>\n",
              "      <th>korelasi</th>\n",
              "      <th>rank</th>\n",
              "    </tr>\n",
              "  </thead>\n",
              "  <tbody>\n",
              "    <tr>\n",
              "      <th>2</th>\n",
              "      <td>kemudahan_akses</td>\n",
              "      <td>0.176611</td>\n",
              "      <td>1.0</td>\n",
              "    </tr>\n",
              "    <tr>\n",
              "      <th>5</th>\n",
              "      <td>belajar_diluar_kuliah_int</td>\n",
              "      <td>0.158523</td>\n",
              "      <td>2.0</td>\n",
              "    </tr>\n",
              "    <tr>\n",
              "      <th>6</th>\n",
              "      <td>asinkron_int</td>\n",
              "      <td>0.085427</td>\n",
              "      <td>3.0</td>\n",
              "    </tr>\n",
              "    <tr>\n",
              "      <th>3</th>\n",
              "      <td>kuota</td>\n",
              "      <td>0.083036</td>\n",
              "      <td>4.0</td>\n",
              "    </tr>\n",
              "    <tr>\n",
              "      <th>0</th>\n",
              "      <td>kesulitan</td>\n",
              "      <td>0.038764</td>\n",
              "      <td>5.0</td>\n",
              "    </tr>\n",
              "    <tr>\n",
              "      <th>4</th>\n",
              "      <td>tahun_int</td>\n",
              "      <td>0.029772</td>\n",
              "      <td>6.0</td>\n",
              "    </tr>\n",
              "    <tr>\n",
              "      <th>7</th>\n",
              "      <td>kegiatan_nonakademik_int</td>\n",
              "      <td>0.001787</td>\n",
              "      <td>7.0</td>\n",
              "    </tr>\n",
              "    <tr>\n",
              "      <th>8</th>\n",
              "      <td>istirahat_int</td>\n",
              "      <td>-0.005410</td>\n",
              "      <td>8.0</td>\n",
              "    </tr>\n",
              "    <tr>\n",
              "      <th>1</th>\n",
              "      <td>frekuensi_beban</td>\n",
              "      <td>-0.058168</td>\n",
              "      <td>9.0</td>\n",
              "    </tr>\n",
              "  </tbody>\n",
              "</table>\n",
              "</div>"
            ],
            "text/plain": [
              "                    kategori  korelasi  rank\n",
              "2            kemudahan_akses  0.176611   1.0\n",
              "5  belajar_diluar_kuliah_int  0.158523   2.0\n",
              "6               asinkron_int  0.085427   3.0\n",
              "3                      kuota  0.083036   4.0\n",
              "0                  kesulitan  0.038764   5.0\n",
              "4                  tahun_int  0.029772   6.0\n",
              "7   kegiatan_nonakademik_int  0.001787   7.0\n",
              "8              istirahat_int -0.005410   8.0\n",
              "1            frekuensi_beban -0.058168   9.0"
            ]
          },
          "metadata": {
            "tags": []
          },
          "execution_count": 111
        },
        {
          "output_type": "display_data",
          "data": {
            "image/png": "[encoded data removed]",
            "text/plain": [
              "<Figure size 1008x504 with 2 Axes>"
            ]
          },
          "metadata": {
            "tags": [],
            "needs_background": "light"
          }
        }
      ]
    },
    {
      "cell_type": "code",
      "metadata": {
        "id": "qU_7n-p51vfs",
        "outputId": "c5ca1415-e758-492f-fc26-8f81765cec2e",
        "colab": {
          "base_uri": "https://localhost:8080/",
          "height": 297
        }
      },
      "source": [
        "dfrapi.describe()"
      ],
      "execution_count": 112,
      "outputs": [
        {
          "output_type": "execute_result",
          "data": {
            "text/html": [
              "<div>\n",
              "<style scoped>\n",
              "    .dataframe tbody tr th:only-of-type {\n",
              "        vertical-align: middle;\n",
              "    }\n",
              "\n",
              "    .dataframe tbody tr th {\n",
              "        vertical-align: top;\n",
              "    }\n",
              "\n",
              "    .dataframe thead th {\n",
              "        text-align: right;\n",
              "    }\n",
              "</style>\n",
              "<table border=\"1\" class=\"dataframe\">\n",
              "  <thead>\n",
              "    <tr style=\"text-align: right;\">\n",
              "      <th></th>\n",
              "      <th>sinkron</th>\n",
              "      <th>tahun</th>\n",
              "      <th>belajar_diluar_kuliah</th>\n",
              "      <th>asinkron</th>\n",
              "      <th>kesulitan</th>\n",
              "      <th>frekuensi_beban</th>\n",
              "      <th>kemudahan_akses</th>\n",
              "      <th>kegiatan_nonakademik</th>\n",
              "      <th>kuota</th>\n",
              "      <th>istirahat</th>\n",
              "    </tr>\n",
              "  </thead>\n",
              "  <tbody>\n",
              "    <tr>\n",
              "      <th>count</th>\n",
              "      <td>109.000000</td>\n",
              "      <td>109.00000</td>\n",
              "      <td>109.000000</td>\n",
              "      <td>109.000000</td>\n",
              "      <td>109.000000</td>\n",
              "      <td>109.000000</td>\n",
              "      <td>109.000000</td>\n",
              "      <td>109.000000</td>\n",
              "      <td>109.000000</td>\n",
              "      <td>109.000000</td>\n",
              "    </tr>\n",
              "    <tr>\n",
              "      <th>mean</th>\n",
              "      <td>3.119266</td>\n",
              "      <td>2.00000</td>\n",
              "      <td>3.458716</td>\n",
              "      <td>3.110092</td>\n",
              "      <td>2.449541</td>\n",
              "      <td>3.954128</td>\n",
              "      <td>3.614679</td>\n",
              "      <td>3.055046</td>\n",
              "      <td>3.761468</td>\n",
              "      <td>4.000000</td>\n",
              "    </tr>\n",
              "    <tr>\n",
              "      <th>std</th>\n",
              "      <td>0.997448</td>\n",
              "      <td>0.62361</td>\n",
              "      <td>1.524686</td>\n",
              "      <td>1.257124</td>\n",
              "      <td>0.995232</td>\n",
              "      <td>1.181535</td>\n",
              "      <td>0.999150</td>\n",
              "      <td>1.477202</td>\n",
              "      <td>1.017432</td>\n",
              "      <td>1.715938</td>\n",
              "    </tr>\n",
              "    <tr>\n",
              "      <th>min</th>\n",
              "      <td>1.000000</td>\n",
              "      <td>1.00000</td>\n",
              "      <td>1.000000</td>\n",
              "      <td>1.000000</td>\n",
              "      <td>1.000000</td>\n",
              "      <td>1.000000</td>\n",
              "      <td>1.000000</td>\n",
              "      <td>1.000000</td>\n",
              "      <td>1.000000</td>\n",
              "      <td>1.000000</td>\n",
              "    </tr>\n",
              "    <tr>\n",
              "      <th>25%</th>\n",
              "      <td>3.000000</td>\n",
              "      <td>2.00000</td>\n",
              "      <td>2.000000</td>\n",
              "      <td>2.000000</td>\n",
              "      <td>2.000000</td>\n",
              "      <td>3.000000</td>\n",
              "      <td>3.000000</td>\n",
              "      <td>2.000000</td>\n",
              "      <td>3.000000</td>\n",
              "      <td>2.000000</td>\n",
              "    </tr>\n",
              "    <tr>\n",
              "      <th>50%</th>\n",
              "      <td>3.000000</td>\n",
              "      <td>2.00000</td>\n",
              "      <td>4.000000</td>\n",
              "      <td>3.000000</td>\n",
              "      <td>2.000000</td>\n",
              "      <td>4.000000</td>\n",
              "      <td>4.000000</td>\n",
              "      <td>3.000000</td>\n",
              "      <td>4.000000</td>\n",
              "      <td>4.000000</td>\n",
              "    </tr>\n",
              "    <tr>\n",
              "      <th>75%</th>\n",
              "      <td>4.000000</td>\n",
              "      <td>2.00000</td>\n",
              "      <td>4.000000</td>\n",
              "      <td>4.000000</td>\n",
              "      <td>3.000000</td>\n",
              "      <td>5.000000</td>\n",
              "      <td>4.000000</td>\n",
              "      <td>4.000000</td>\n",
              "      <td>4.000000</td>\n",
              "      <td>6.000000</td>\n",
              "    </tr>\n",
              "    <tr>\n",
              "      <th>max</th>\n",
              "      <td>5.000000</td>\n",
              "      <td>5.00000</td>\n",
              "      <td>6.000000</td>\n",
              "      <td>5.000000</td>\n",
              "      <td>4.000000</td>\n",
              "      <td>5.000000</td>\n",
              "      <td>5.000000</td>\n",
              "      <td>6.000000</td>\n",
              "      <td>5.000000</td>\n",
              "      <td>6.000000</td>\n",
              "    </tr>\n",
              "  </tbody>\n",
              "</table>\n",
              "</div>"
            ],
            "text/plain": [
              "          sinkron      tahun  ...       kuota   istirahat\n",
              "count  109.000000  109.00000  ...  109.000000  109.000000\n",
              "mean     3.119266    2.00000  ...    3.761468    4.000000\n",
              "std      0.997448    0.62361  ...    1.017432    1.715938\n",
              "min      1.000000    1.00000  ...    1.000000    1.000000\n",
              "25%      3.000000    2.00000  ...    3.000000    2.000000\n",
              "50%      3.000000    2.00000  ...    4.000000    4.000000\n",
              "75%      4.000000    2.00000  ...    4.000000    6.000000\n",
              "max      5.000000    5.00000  ...    5.000000    6.000000\n",
              "\n",
              "[8 rows x 10 columns]"
            ]
          },
          "metadata": {
            "tags": []
          },
          "execution_count": 112
        }
      ]
    },
    {
      "cell_type": "code",
      "metadata": {
        "id": "Tu73cN4NsgWY",
        "outputId": "d3c6e965-b829-4309-aec9-610be43aac3f",
        "colab": {
          "base_uri": "https://localhost:8080/",
          "height": 609
        }
      },
      "source": [
        "df1"
      ],
      "execution_count": 113,
      "outputs": [
        {
          "output_type": "execute_result",
          "data": {
            "text/html": [
              "<div>\n",
              "<style scoped>\n",
              "    .dataframe tbody tr th:only-of-type {\n",
              "        vertical-align: middle;\n",
              "    }\n",
              "\n",
              "    .dataframe tbody tr th {\n",
              "        vertical-align: top;\n",
              "    }\n",
              "\n",
              "    .dataframe thead th {\n",
              "        text-align: right;\n",
              "    }\n",
              "</style>\n",
              "<table border=\"1\" class=\"dataframe\">\n",
              "  <thead>\n",
              "    <tr style=\"text-align: right;\">\n",
              "      <th></th>\n",
              "      <th>tahun</th>\n",
              "      <th>belajar_diluar_kuliah</th>\n",
              "      <th>sinkron</th>\n",
              "      <th>asinkron</th>\n",
              "      <th>kesulitan</th>\n",
              "      <th>frekuensi_beban</th>\n",
              "      <th>kemudahan_akses</th>\n",
              "      <th>kegiatan_nonakademik</th>\n",
              "      <th>kuota</th>\n",
              "      <th>istirahat</th>\n",
              "      <th>jam_tidur</th>\n",
              "      <th>tahun_int</th>\n",
              "      <th>belajar_diluar_kuliah_int</th>\n",
              "      <th>sinkron_int</th>\n",
              "      <th>asinkron_int</th>\n",
              "      <th>kegiatan_nonakademik_int</th>\n",
              "      <th>istirahat_int</th>\n",
              "    </tr>\n",
              "  </thead>\n",
              "  <tbody>\n",
              "    <tr>\n",
              "      <th>0</th>\n",
              "      <td>2</td>\n",
              "      <td>4</td>\n",
              "      <td>5</td>\n",
              "      <td>5</td>\n",
              "      <td>2</td>\n",
              "      <td>3</td>\n",
              "      <td>4</td>\n",
              "      <td>6</td>\n",
              "      <td>4</td>\n",
              "      <td>6</td>\n",
              "      <td>22.00 - 23.00 WIB</td>\n",
              "      <td>2</td>\n",
              "      <td>4</td>\n",
              "      <td>5</td>\n",
              "      <td>5</td>\n",
              "      <td>6</td>\n",
              "      <td>6</td>\n",
              "    </tr>\n",
              "    <tr>\n",
              "      <th>1</th>\n",
              "      <td>2</td>\n",
              "      <td>2</td>\n",
              "      <td>4</td>\n",
              "      <td>2</td>\n",
              "      <td>4</td>\n",
              "      <td>3</td>\n",
              "      <td>3</td>\n",
              "      <td>3</td>\n",
              "      <td>4</td>\n",
              "      <td>3</td>\n",
              "      <td>00.00 - 01.00 WIB</td>\n",
              "      <td>2</td>\n",
              "      <td>2</td>\n",
              "      <td>4</td>\n",
              "      <td>2</td>\n",
              "      <td>3</td>\n",
              "      <td>3</td>\n",
              "    </tr>\n",
              "    <tr>\n",
              "      <th>2</th>\n",
              "      <td>2</td>\n",
              "      <td>1</td>\n",
              "      <td>2</td>\n",
              "      <td>1</td>\n",
              "      <td>2</td>\n",
              "      <td>4</td>\n",
              "      <td>5</td>\n",
              "      <td>3</td>\n",
              "      <td>2</td>\n",
              "      <td>6</td>\n",
              "      <td>20.00 - 21.00 WIB</td>\n",
              "      <td>2</td>\n",
              "      <td>1</td>\n",
              "      <td>2</td>\n",
              "      <td>1</td>\n",
              "      <td>3</td>\n",
              "      <td>6</td>\n",
              "    </tr>\n",
              "    <tr>\n",
              "      <th>3</th>\n",
              "      <td>2</td>\n",
              "      <td>5</td>\n",
              "      <td>1</td>\n",
              "      <td>5</td>\n",
              "      <td>2</td>\n",
              "      <td>4</td>\n",
              "      <td>3</td>\n",
              "      <td>3</td>\n",
              "      <td>5</td>\n",
              "      <td>6</td>\n",
              "      <td>02.00 - 03.00 WIB</td>\n",
              "      <td>2</td>\n",
              "      <td>5</td>\n",
              "      <td>1</td>\n",
              "      <td>5</td>\n",
              "      <td>3</td>\n",
              "      <td>6</td>\n",
              "    </tr>\n",
              "    <tr>\n",
              "      <th>4</th>\n",
              "      <td>2</td>\n",
              "      <td>6</td>\n",
              "      <td>4</td>\n",
              "      <td>5</td>\n",
              "      <td>2</td>\n",
              "      <td>5</td>\n",
              "      <td>5</td>\n",
              "      <td>6</td>\n",
              "      <td>5</td>\n",
              "      <td>4</td>\n",
              "      <td>02.00 - 03.00 WIB</td>\n",
              "      <td>2</td>\n",
              "      <td>6</td>\n",
              "      <td>4</td>\n",
              "      <td>5</td>\n",
              "      <td>6</td>\n",
              "      <td>4</td>\n",
              "    </tr>\n",
              "    <tr>\n",
              "      <th>...</th>\n",
              "      <td>...</td>\n",
              "      <td>...</td>\n",
              "      <td>...</td>\n",
              "      <td>...</td>\n",
              "      <td>...</td>\n",
              "      <td>...</td>\n",
              "      <td>...</td>\n",
              "      <td>...</td>\n",
              "      <td>...</td>\n",
              "      <td>...</td>\n",
              "      <td>...</td>\n",
              "      <td>...</td>\n",
              "      <td>...</td>\n",
              "      <td>...</td>\n",
              "      <td>...</td>\n",
              "      <td>...</td>\n",
              "      <td>...</td>\n",
              "    </tr>\n",
              "    <tr>\n",
              "      <th>104</th>\n",
              "      <td>1</td>\n",
              "      <td>3</td>\n",
              "      <td>3</td>\n",
              "      <td>4</td>\n",
              "      <td>3</td>\n",
              "      <td>4</td>\n",
              "      <td>2</td>\n",
              "      <td>2</td>\n",
              "      <td>2</td>\n",
              "      <td>2</td>\n",
              "      <td>01.00 - 02.00 WIB</td>\n",
              "      <td>1</td>\n",
              "      <td>3</td>\n",
              "      <td>3</td>\n",
              "      <td>4</td>\n",
              "      <td>2</td>\n",
              "      <td>2</td>\n",
              "    </tr>\n",
              "    <tr>\n",
              "      <th>105</th>\n",
              "      <td>2</td>\n",
              "      <td>4</td>\n",
              "      <td>2</td>\n",
              "      <td>5</td>\n",
              "      <td>2</td>\n",
              "      <td>5</td>\n",
              "      <td>3</td>\n",
              "      <td>3</td>\n",
              "      <td>4</td>\n",
              "      <td>4</td>\n",
              "      <td>00.00 - 01.00 WIB</td>\n",
              "      <td>2</td>\n",
              "      <td>4</td>\n",
              "      <td>2</td>\n",
              "      <td>5</td>\n",
              "      <td>3</td>\n",
              "      <td>4</td>\n",
              "    </tr>\n",
              "    <tr>\n",
              "      <th>106</th>\n",
              "      <td>2</td>\n",
              "      <td>4</td>\n",
              "      <td>3</td>\n",
              "      <td>3</td>\n",
              "      <td>4</td>\n",
              "      <td>3</td>\n",
              "      <td>4</td>\n",
              "      <td>3</td>\n",
              "      <td>5</td>\n",
              "      <td>3</td>\n",
              "      <td>01.00 - 02.00 WIB</td>\n",
              "      <td>2</td>\n",
              "      <td>4</td>\n",
              "      <td>3</td>\n",
              "      <td>3</td>\n",
              "      <td>3</td>\n",
              "      <td>3</td>\n",
              "    </tr>\n",
              "    <tr>\n",
              "      <th>107</th>\n",
              "      <td>3</td>\n",
              "      <td>5</td>\n",
              "      <td>4</td>\n",
              "      <td>3</td>\n",
              "      <td>3</td>\n",
              "      <td>4</td>\n",
              "      <td>4</td>\n",
              "      <td>3</td>\n",
              "      <td>3</td>\n",
              "      <td>2</td>\n",
              "      <td>23.00 - 00.00 WIB</td>\n",
              "      <td>3</td>\n",
              "      <td>5</td>\n",
              "      <td>4</td>\n",
              "      <td>3</td>\n",
              "      <td>3</td>\n",
              "      <td>2</td>\n",
              "    </tr>\n",
              "    <tr>\n",
              "      <th>108</th>\n",
              "      <td>2</td>\n",
              "      <td>3</td>\n",
              "      <td>2</td>\n",
              "      <td>4</td>\n",
              "      <td>2</td>\n",
              "      <td>3</td>\n",
              "      <td>4</td>\n",
              "      <td>1</td>\n",
              "      <td>4</td>\n",
              "      <td>2</td>\n",
              "      <td>22.00 - 23.00 WIB</td>\n",
              "      <td>2</td>\n",
              "      <td>3</td>\n",
              "      <td>2</td>\n",
              "      <td>4</td>\n",
              "      <td>1</td>\n",
              "      <td>2</td>\n",
              "    </tr>\n",
              "  </tbody>\n",
              "</table>\n",
              "<p>109 rows × 17 columns</p>\n",
              "</div>"
            ],
            "text/plain": [
              "    tahun belajar_diluar_kuliah  ... kegiatan_nonakademik_int istirahat_int\n",
              "0       2                     4  ...                        6             6\n",
              "1       2                     2  ...                        3             3\n",
              "2       2                     1  ...                        3             6\n",
              "3       2                     5  ...                        3             6\n",
              "4       2                     6  ...                        6             4\n",
              "..    ...                   ...  ...                      ...           ...\n",
              "104     1                     3  ...                        2             2\n",
              "105     2                     4  ...                        3             4\n",
              "106     2                     4  ...                        3             3\n",
              "107     3                     5  ...                        3             2\n",
              "108     2                     3  ...                        1             2\n",
              "\n",
              "[109 rows x 17 columns]"
            ]
          },
          "metadata": {
            "tags": []
          },
          "execution_count": 113
        }
      ]
    },
    {
      "cell_type": "code",
      "metadata": {
        "id": "m5BQlFIzq3k0",
        "outputId": "09c7b8b2-1c45-473c-c147-c825dca3cdc9",
        "colab": {
          "base_uri": "https://localhost:8080/"
        }
      },
      "source": [
        "df1.columns"
      ],
      "execution_count": 114,
      "outputs": [
        {
          "output_type": "execute_result",
          "data": {
            "text/plain": [
              "Index(['tahun', 'belajar_diluar_kuliah', 'sinkron', 'asinkron', 'kesulitan',\n",
              "       'frekuensi_beban', 'kemudahan_akses', 'kegiatan_nonakademik', 'kuota',\n",
              "       'istirahat', 'jam_tidur', 'tahun_int', 'belajar_diluar_kuliah_int',\n",
              "       'sinkron_int', 'asinkron_int', 'kegiatan_nonakademik_int',\n",
              "       'istirahat_int'],\n",
              "      dtype='object')"
            ]
          },
          "metadata": {
            "tags": []
          },
          "execution_count": 114
        }
      ]
    },
    {
      "cell_type": "code",
      "metadata": {
        "id": "bdZiILrfWyaB",
        "outputId": "6687d1f7-bbc0-427f-933a-094ca068d138",
        "colab": {
          "base_uri": "https://localhost:8080/",
          "height": 419
        }
      },
      "source": [
        "drapi = df1[['sinkron','tahun','belajar_diluar_kuliah','asinkron','kesulitan','frekuensi_beban','kemudahan_akses','kegiatan_nonakademik','kuota','istirahat']]\n",
        "df_coef.columns = df_coef.columns.str.replace('_int','')\n",
        "drapi"
      ],
      "execution_count": 115,
      "outputs": [
        {
          "output_type": "execute_result",
          "data": {
            "text/html": [
              "<div>\n",
              "<style scoped>\n",
              "    .dataframe tbody tr th:only-of-type {\n",
              "        vertical-align: middle;\n",
              "    }\n",
              "\n",
              "    .dataframe tbody tr th {\n",
              "        vertical-align: top;\n",
              "    }\n",
              "\n",
              "    .dataframe thead th {\n",
              "        text-align: right;\n",
              "    }\n",
              "</style>\n",
              "<table border=\"1\" class=\"dataframe\">\n",
              "  <thead>\n",
              "    <tr style=\"text-align: right;\">\n",
              "      <th></th>\n",
              "      <th>sinkron</th>\n",
              "      <th>tahun</th>\n",
              "      <th>belajar_diluar_kuliah</th>\n",
              "      <th>asinkron</th>\n",
              "      <th>kesulitan</th>\n",
              "      <th>frekuensi_beban</th>\n",
              "      <th>kemudahan_akses</th>\n",
              "      <th>kegiatan_nonakademik</th>\n",
              "      <th>kuota</th>\n",
              "      <th>istirahat</th>\n",
              "    </tr>\n",
              "  </thead>\n",
              "  <tbody>\n",
              "    <tr>\n",
              "      <th>0</th>\n",
              "      <td>5</td>\n",
              "      <td>2</td>\n",
              "      <td>4</td>\n",
              "      <td>5</td>\n",
              "      <td>2</td>\n",
              "      <td>3</td>\n",
              "      <td>4</td>\n",
              "      <td>6</td>\n",
              "      <td>4</td>\n",
              "      <td>6</td>\n",
              "    </tr>\n",
              "    <tr>\n",
              "      <th>1</th>\n",
              "      <td>4</td>\n",
              "      <td>2</td>\n",
              "      <td>2</td>\n",
              "      <td>2</td>\n",
              "      <td>4</td>\n",
              "      <td>3</td>\n",
              "      <td>3</td>\n",
              "      <td>3</td>\n",
              "      <td>4</td>\n",
              "      <td>3</td>\n",
              "    </tr>\n",
              "    <tr>\n",
              "      <th>2</th>\n",
              "      <td>2</td>\n",
              "      <td>2</td>\n",
              "      <td>1</td>\n",
              "      <td>1</td>\n",
              "      <td>2</td>\n",
              "      <td>4</td>\n",
              "      <td>5</td>\n",
              "      <td>3</td>\n",
              "      <td>2</td>\n",
              "      <td>6</td>\n",
              "    </tr>\n",
              "    <tr>\n",
              "      <th>3</th>\n",
              "      <td>1</td>\n",
              "      <td>2</td>\n",
              "      <td>5</td>\n",
              "      <td>5</td>\n",
              "      <td>2</td>\n",
              "      <td>4</td>\n",
              "      <td>3</td>\n",
              "      <td>3</td>\n",
              "      <td>5</td>\n",
              "      <td>6</td>\n",
              "    </tr>\n",
              "    <tr>\n",
              "      <th>4</th>\n",
              "      <td>4</td>\n",
              "      <td>2</td>\n",
              "      <td>6</td>\n",
              "      <td>5</td>\n",
              "      <td>2</td>\n",
              "      <td>5</td>\n",
              "      <td>5</td>\n",
              "      <td>6</td>\n",
              "      <td>5</td>\n",
              "      <td>4</td>\n",
              "    </tr>\n",
              "    <tr>\n",
              "      <th>...</th>\n",
              "      <td>...</td>\n",
              "      <td>...</td>\n",
              "      <td>...</td>\n",
              "      <td>...</td>\n",
              "      <td>...</td>\n",
              "      <td>...</td>\n",
              "      <td>...</td>\n",
              "      <td>...</td>\n",
              "      <td>...</td>\n",
              "      <td>...</td>\n",
              "    </tr>\n",
              "    <tr>\n",
              "      <th>104</th>\n",
              "      <td>3</td>\n",
              "      <td>1</td>\n",
              "      <td>3</td>\n",
              "      <td>4</td>\n",
              "      <td>3</td>\n",
              "      <td>4</td>\n",
              "      <td>2</td>\n",
              "      <td>2</td>\n",
              "      <td>2</td>\n",
              "      <td>2</td>\n",
              "    </tr>\n",
              "    <tr>\n",
              "      <th>105</th>\n",
              "      <td>2</td>\n",
              "      <td>2</td>\n",
              "      <td>4</td>\n",
              "      <td>5</td>\n",
              "      <td>2</td>\n",
              "      <td>5</td>\n",
              "      <td>3</td>\n",
              "      <td>3</td>\n",
              "      <td>4</td>\n",
              "      <td>4</td>\n",
              "    </tr>\n",
              "    <tr>\n",
              "      <th>106</th>\n",
              "      <td>3</td>\n",
              "      <td>2</td>\n",
              "      <td>4</td>\n",
              "      <td>3</td>\n",
              "      <td>4</td>\n",
              "      <td>3</td>\n",
              "      <td>4</td>\n",
              "      <td>3</td>\n",
              "      <td>5</td>\n",
              "      <td>3</td>\n",
              "    </tr>\n",
              "    <tr>\n",
              "      <th>107</th>\n",
              "      <td>4</td>\n",
              "      <td>3</td>\n",
              "      <td>5</td>\n",
              "      <td>3</td>\n",
              "      <td>3</td>\n",
              "      <td>4</td>\n",
              "      <td>4</td>\n",
              "      <td>3</td>\n",
              "      <td>3</td>\n",
              "      <td>2</td>\n",
              "    </tr>\n",
              "    <tr>\n",
              "      <th>108</th>\n",
              "      <td>2</td>\n",
              "      <td>2</td>\n",
              "      <td>3</td>\n",
              "      <td>4</td>\n",
              "      <td>2</td>\n",
              "      <td>3</td>\n",
              "      <td>4</td>\n",
              "      <td>1</td>\n",
              "      <td>4</td>\n",
              "      <td>2</td>\n",
              "    </tr>\n",
              "  </tbody>\n",
              "</table>\n",
              "<p>109 rows × 10 columns</p>\n",
              "</div>"
            ],
            "text/plain": [
              "    sinkron tahun belajar_diluar_kuliah  ... kegiatan_nonakademik  kuota  istirahat\n",
              "0         5     2                     4  ...                    6      4          6\n",
              "1         4     2                     2  ...                    3      4          3\n",
              "2         2     2                     1  ...                    3      2          6\n",
              "3         1     2                     5  ...                    3      5          6\n",
              "4         4     2                     6  ...                    6      5          4\n",
              "..      ...   ...                   ...  ...                  ...    ...        ...\n",
              "104       3     1                     3  ...                    2      2          2\n",
              "105       2     2                     4  ...                    3      4          4\n",
              "106       3     2                     4  ...                    3      5          3\n",
              "107       4     3                     5  ...                    3      3          2\n",
              "108       2     2                     3  ...                    1      4          2\n",
              "\n",
              "[109 rows x 10 columns]"
            ]
          },
          "metadata": {
            "tags": []
          },
          "execution_count": 115
        }
      ]
    },
    {
      "cell_type": "code",
      "metadata": {
        "id": "j7WIko5LOHcW",
        "outputId": "611aa7e8-fd61-4a28-fa7f-fbb1dca4889e",
        "colab": {
          "base_uri": "https://localhost:8080/",
          "height": 443
        }
      },
      "source": [
        "plt.figure(figsize=(20,7))\n",
        "sns.barplot(x='kategori',y='korelasi',data=df_coef)\n",
        "a = [i for i in df_coef['kategori']]\n",
        "b = [float(i) for i in df_coef['korelasi']]\n",
        "\n",
        "for i in range(8):\n",
        "  plt.plot(0,0,label=str(b[i]))\n",
        "  plt.legend()\n"
      ],
      "execution_count": 116,
      "outputs": [
        {
          "output_type": "display_data",
          "data": {
            "image/png": "[encoded data removed]",
            "text/plain": [
              "<Figure size 1440x504 with 1 Axes>"
            ]
          },
          "metadata": {
            "tags": [],
            "needs_background": "light"
          }
        }
      ]
    },
    {
      "cell_type": "markdown",
      "metadata": {
        "id": "W29KkY_yyOPf"
      },
      "source": [
        "Diatas diketahui nilai korelasi masing-masing variable terhadap variable sinkron"
      ]
    },
    {
      "cell_type": "code",
      "metadata": {
        "id": "fZ4oMPobQmmb"
      },
      "source": [
        ""
      ],
      "execution_count": 116,
      "outputs": []
    },
    {
      "cell_type": "markdown",
      "metadata": {
        "id": "IspyZoViYfwT"
      },
      "source": [
        "### Data"
      ]
    },
    {
      "cell_type": "code",
      "metadata": {
        "id": "rNNBD3bJYvpz",
        "outputId": "db17d1a6-360c-4e1e-9521-8a36b82ee19d",
        "colab": {
          "base_uri": "https://localhost:8080/",
          "height": 932
        }
      },
      "source": [
        "# Data lama\n",
        "df"
      ],
      "execution_count": 117,
      "outputs": [
        {
          "output_type": "execute_result",
          "data": {
            "text/html": [
              "<div>\n",
              "<style scoped>\n",
              "    .dataframe tbody tr th:only-of-type {\n",
              "        vertical-align: middle;\n",
              "    }\n",
              "\n",
              "    .dataframe tbody tr th {\n",
              "        vertical-align: top;\n",
              "    }\n",
              "\n",
              "    .dataframe thead th {\n",
              "        text-align: right;\n",
              "    }\n",
              "</style>\n",
              "<table border=\"1\" class=\"dataframe\">\n",
              "  <thead>\n",
              "    <tr style=\"text-align: right;\">\n",
              "      <th></th>\n",
              "      <th>Timestamp</th>\n",
              "      <th>Nama (Inisial)</th>\n",
              "      <th>Jenis Kelamin</th>\n",
              "      <th>Fakultas/Jurusan (Untuk TPB ITB isi jurusan dengan TPB ITB)</th>\n",
              "      <th>Tahun ke berapa di kuliah?</th>\n",
              "      <th>Asal Universitas</th>\n",
              "      <th>Domisili</th>\n",
              "      <th>Berapa lama Anda menghabiskan waktu untuk belajar dalam sehari selain pada waktu kuliah?</th>\n",
              "      <th>Berapa persen materi yang diberikan saat pembelajaran sinkron yang disimak oleh Anda? (Pembelajaran tatap muka, contoh : gmeet, webinar, dll)</th>\n",
              "      <th>Berapa persen materi yang diberikan saat pembelajaran asinkron yang disimak oleh Anda? (Pembelajaran mandiri tanpa ada interaksi langsung dengan pemateri, contoh : video youtube, modul perkuliahan)</th>\n",
              "      <th>Seberapa sulit materi kuliah yang diberikan?</th>\n",
              "      <th>Seberapa sering diberikan Tugas/PR/Kuis?</th>\n",
              "      <th>Seberapa mudah akses materi perkuliahan lewat platform LMS?</th>\n",
              "      <th>Berapa lama dalam sehari Anda melakukan kegiatan di luar akademik? (Kegiatan organisasi baik di UKM atau himpunan)</th>\n",
              "      <th>Apakah ketersediaan kuota/Internet cukup memadai untuk menunjang kegiatan pembelajaran?</th>\n",
              "      <th>Berapa lama Anda menghabiskan waktu untuk istirahat dalam sehari saat waktu kuliah</th>\n",
              "      <th>Pada jam berapa Anda biasanya tidur di waktu malam saat waktu kuliah?</th>\n",
              "    </tr>\n",
              "  </thead>\n",
              "  <tbody>\n",
              "    <tr>\n",
              "      <th>0</th>\n",
              "      <td>05/11/2020 17:08:11</td>\n",
              "      <td>Ria</td>\n",
              "      <td>Perempuan</td>\n",
              "      <td>Matematika</td>\n",
              "      <td>2</td>\n",
              "      <td>ITB</td>\n",
              "      <td>Jawa Tengah</td>\n",
              "      <td>91 - 120 menit</td>\n",
              "      <td>81 - 100%</td>\n",
              "      <td>81% - 100%</td>\n",
              "      <td>2</td>\n",
              "      <td>3</td>\n",
              "      <td>4</td>\n",
              "      <td>151 - 180 menit</td>\n",
              "      <td>4</td>\n",
              "      <td>151 - 180 menit</td>\n",
              "      <td>22.00 - 23.00 WIB</td>\n",
              "    </tr>\n",
              "    <tr>\n",
              "      <th>1</th>\n",
              "      <td>05/11/2020 17:08:17</td>\n",
              "      <td>b</td>\n",
              "      <td>Laki-laki</td>\n",
              "      <td>FMIPA/Aktuaria</td>\n",
              "      <td>2</td>\n",
              "      <td>ITB</td>\n",
              "      <td>Jakarta</td>\n",
              "      <td>31 - 60 menit</td>\n",
              "      <td>61 - 80%</td>\n",
              "      <td>21 - 40%</td>\n",
              "      <td>4</td>\n",
              "      <td>3</td>\n",
              "      <td>3</td>\n",
              "      <td>61 - 90 menit</td>\n",
              "      <td>4</td>\n",
              "      <td>61 - 90 menit</td>\n",
              "      <td>00.00 - 01.00 WIB</td>\n",
              "    </tr>\n",
              "    <tr>\n",
              "      <th>2</th>\n",
              "      <td>05/11/2020 17:09:29</td>\n",
              "      <td>danzel</td>\n",
              "      <td>Laki-laki</td>\n",
              "      <td>Matematika</td>\n",
              "      <td>2</td>\n",
              "      <td>ITB</td>\n",
              "      <td>Cimahi</td>\n",
              "      <td>0 - 30 menit</td>\n",
              "      <td>21 - 40%</td>\n",
              "      <td>0 - 20%</td>\n",
              "      <td>2</td>\n",
              "      <td>4</td>\n",
              "      <td>5</td>\n",
              "      <td>61 - 90 menit</td>\n",
              "      <td>2</td>\n",
              "      <td>151 - 180 menit</td>\n",
              "      <td>20.00 - 21.00 WIB</td>\n",
              "    </tr>\n",
              "    <tr>\n",
              "      <th>3</th>\n",
              "      <td>05/11/2020 17:11:28</td>\n",
              "      <td>hfy</td>\n",
              "      <td>Perempuan</td>\n",
              "      <td>Aktuaria</td>\n",
              "      <td>2</td>\n",
              "      <td>ITB</td>\n",
              "      <td>Bandung</td>\n",
              "      <td>121 - 150 menit</td>\n",
              "      <td>0 - 20 %</td>\n",
              "      <td>81% - 100%</td>\n",
              "      <td>2</td>\n",
              "      <td>4</td>\n",
              "      <td>3</td>\n",
              "      <td>61 - 90 menit</td>\n",
              "      <td>5</td>\n",
              "      <td>151 - 180 menit</td>\n",
              "      <td>02.00 - 03.00 WIB</td>\n",
              "    </tr>\n",
              "    <tr>\n",
              "      <th>4</th>\n",
              "      <td>05/11/2020 17:16:53</td>\n",
              "      <td>AP</td>\n",
              "      <td>Laki-laki</td>\n",
              "      <td>FTTM/TG</td>\n",
              "      <td>2</td>\n",
              "      <td>ITB</td>\n",
              "      <td>Denpasar, Bali</td>\n",
              "      <td>151 - 180 menit</td>\n",
              "      <td>61 - 80%</td>\n",
              "      <td>81% - 100%</td>\n",
              "      <td>2</td>\n",
              "      <td>5</td>\n",
              "      <td>5</td>\n",
              "      <td>151 - 180 menit</td>\n",
              "      <td>5</td>\n",
              "      <td>91 - 120 menit</td>\n",
              "      <td>02.00 - 03.00 WIB</td>\n",
              "    </tr>\n",
              "    <tr>\n",
              "      <th>...</th>\n",
              "      <td>...</td>\n",
              "      <td>...</td>\n",
              "      <td>...</td>\n",
              "      <td>...</td>\n",
              "      <td>...</td>\n",
              "      <td>...</td>\n",
              "      <td>...</td>\n",
              "      <td>...</td>\n",
              "      <td>...</td>\n",
              "      <td>...</td>\n",
              "      <td>...</td>\n",
              "      <td>...</td>\n",
              "      <td>...</td>\n",
              "      <td>...</td>\n",
              "      <td>...</td>\n",
              "      <td>...</td>\n",
              "      <td>...</td>\n",
              "    </tr>\n",
              "    <tr>\n",
              "      <th>104</th>\n",
              "      <td>09/11/2020 7:38:14</td>\n",
              "      <td>T</td>\n",
              "      <td>Laki-laki</td>\n",
              "      <td>FMIPA/Tpb itb</td>\n",
              "      <td>1</td>\n",
              "      <td>Itb</td>\n",
              "      <td>Inderapura</td>\n",
              "      <td>61 - 90 menit</td>\n",
              "      <td>41 - 60%</td>\n",
              "      <td>61 - 80%</td>\n",
              "      <td>3</td>\n",
              "      <td>4</td>\n",
              "      <td>2</td>\n",
              "      <td>31 - 60 menit</td>\n",
              "      <td>2</td>\n",
              "      <td>31 - 60 menit</td>\n",
              "      <td>01.00 - 02.00 WIB</td>\n",
              "    </tr>\n",
              "    <tr>\n",
              "      <th>105</th>\n",
              "      <td>09/11/2020 11:34:33</td>\n",
              "      <td>Fayez Gatri</td>\n",
              "      <td>Laki-laki</td>\n",
              "      <td>FTMD/Teknik Mesin</td>\n",
              "      <td>2</td>\n",
              "      <td>Institut Teknologi Bandung</td>\n",
              "      <td>Tangerang Selatan</td>\n",
              "      <td>91 - 120 menit</td>\n",
              "      <td>21 - 40%</td>\n",
              "      <td>81% - 100%</td>\n",
              "      <td>2</td>\n",
              "      <td>5</td>\n",
              "      <td>3</td>\n",
              "      <td>61 - 90 menit</td>\n",
              "      <td>4</td>\n",
              "      <td>91 - 120 menit</td>\n",
              "      <td>00.00 - 01.00 WIB</td>\n",
              "    </tr>\n",
              "    <tr>\n",
              "      <th>106</th>\n",
              "      <td>09/11/2020 16:37:58</td>\n",
              "      <td>VH</td>\n",
              "      <td>Laki-laki</td>\n",
              "      <td>FMIPA/Aktuaria</td>\n",
              "      <td>2</td>\n",
              "      <td>ITB</td>\n",
              "      <td>Pontianak</td>\n",
              "      <td>91 - 120 menit</td>\n",
              "      <td>41 - 60%</td>\n",
              "      <td>41 - 60%</td>\n",
              "      <td>4</td>\n",
              "      <td>3</td>\n",
              "      <td>4</td>\n",
              "      <td>61 - 90 menit</td>\n",
              "      <td>5</td>\n",
              "      <td>61 - 90 menit</td>\n",
              "      <td>01.00 - 02.00 WIB</td>\n",
              "    </tr>\n",
              "    <tr>\n",
              "      <th>107</th>\n",
              "      <td>09/11/2020 16:48:59</td>\n",
              "      <td>Agung</td>\n",
              "      <td>Laki-laki</td>\n",
              "      <td>JTEIF/IF</td>\n",
              "      <td>3</td>\n",
              "      <td>ITERA</td>\n",
              "      <td>Bandar Lampung</td>\n",
              "      <td>121 - 150 menit</td>\n",
              "      <td>61 - 80%</td>\n",
              "      <td>41 - 60%</td>\n",
              "      <td>3</td>\n",
              "      <td>4</td>\n",
              "      <td>4</td>\n",
              "      <td>61 - 90 menit</td>\n",
              "      <td>3</td>\n",
              "      <td>31 - 60 menit</td>\n",
              "      <td>23.00 - 00.00 WIB</td>\n",
              "    </tr>\n",
              "    <tr>\n",
              "      <th>108</th>\n",
              "      <td>11/11/2020 6:07:45</td>\n",
              "      <td>Lia</td>\n",
              "      <td>Perempuan</td>\n",
              "      <td>FMIPA/Matematika</td>\n",
              "      <td>2</td>\n",
              "      <td>ITB</td>\n",
              "      <td>Banten</td>\n",
              "      <td>61 - 90 menit</td>\n",
              "      <td>21 - 40%</td>\n",
              "      <td>61 - 80%</td>\n",
              "      <td>2</td>\n",
              "      <td>3</td>\n",
              "      <td>4</td>\n",
              "      <td>0 - 30 menit</td>\n",
              "      <td>4</td>\n",
              "      <td>31 - 60 menit</td>\n",
              "      <td>22.00 - 23.00 WIB</td>\n",
              "    </tr>\n",
              "  </tbody>\n",
              "</table>\n",
              "<p>109 rows × 17 columns</p>\n",
              "</div>"
            ],
            "text/plain": [
              "               Timestamp  ... Pada jam berapa Anda biasanya tidur di waktu malam saat waktu kuliah?\n",
              "0    05/11/2020 17:08:11  ...                                  22.00 - 23.00 WIB                   \n",
              "1    05/11/2020 17:08:17  ...                                  00.00 - 01.00 WIB                   \n",
              "2    05/11/2020 17:09:29  ...                                  20.00 - 21.00 WIB                   \n",
              "3    05/11/2020 17:11:28  ...                                  02.00 - 03.00 WIB                   \n",
              "4    05/11/2020 17:16:53  ...                                  02.00 - 03.00 WIB                   \n",
              "..                   ...  ...                                                ...                   \n",
              "104   09/11/2020 7:38:14  ...                                  01.00 - 02.00 WIB                   \n",
              "105  09/11/2020 11:34:33  ...                                  00.00 - 01.00 WIB                   \n",
              "106  09/11/2020 16:37:58  ...                                  01.00 - 02.00 WIB                   \n",
              "107  09/11/2020 16:48:59  ...                                  23.00 - 00.00 WIB                   \n",
              "108   11/11/2020 6:07:45  ...                                  22.00 - 23.00 WIB                   \n",
              "\n",
              "[109 rows x 17 columns]"
            ]
          },
          "metadata": {
            "tags": []
          },
          "execution_count": 117
        }
      ]
    },
    {
      "cell_type": "code",
      "metadata": {
        "id": "OeJ4UO_Ga8gk",
        "outputId": "375ebac7-f485-4630-a292-a191b0d65eff",
        "colab": {
          "base_uri": "https://localhost:8080/",
          "height": 419
        }
      },
      "source": [
        "drapi"
      ],
      "execution_count": 118,
      "outputs": [
        {
          "output_type": "execute_result",
          "data": {
            "text/html": [
              "<div>\n",
              "<style scoped>\n",
              "    .dataframe tbody tr th:only-of-type {\n",
              "        vertical-align: middle;\n",
              "    }\n",
              "\n",
              "    .dataframe tbody tr th {\n",
              "        vertical-align: top;\n",
              "    }\n",
              "\n",
              "    .dataframe thead th {\n",
              "        text-align: right;\n",
              "    }\n",
              "</style>\n",
              "<table border=\"1\" class=\"dataframe\">\n",
              "  <thead>\n",
              "    <tr style=\"text-align: right;\">\n",
              "      <th></th>\n",
              "      <th>sinkron</th>\n",
              "      <th>tahun</th>\n",
              "      <th>belajar_diluar_kuliah</th>\n",
              "      <th>asinkron</th>\n",
              "      <th>kesulitan</th>\n",
              "      <th>frekuensi_beban</th>\n",
              "      <th>kemudahan_akses</th>\n",
              "      <th>kegiatan_nonakademik</th>\n",
              "      <th>kuota</th>\n",
              "      <th>istirahat</th>\n",
              "    </tr>\n",
              "  </thead>\n",
              "  <tbody>\n",
              "    <tr>\n",
              "      <th>0</th>\n",
              "      <td>5</td>\n",
              "      <td>2</td>\n",
              "      <td>4</td>\n",
              "      <td>5</td>\n",
              "      <td>2</td>\n",
              "      <td>3</td>\n",
              "      <td>4</td>\n",
              "      <td>6</td>\n",
              "      <td>4</td>\n",
              "      <td>6</td>\n",
              "    </tr>\n",
              "    <tr>\n",
              "      <th>1</th>\n",
              "      <td>4</td>\n",
              "      <td>2</td>\n",
              "      <td>2</td>\n",
              "      <td>2</td>\n",
              "      <td>4</td>\n",
              "      <td>3</td>\n",
              "      <td>3</td>\n",
              "      <td>3</td>\n",
              "      <td>4</td>\n",
              "      <td>3</td>\n",
              "    </tr>\n",
              "    <tr>\n",
              "      <th>2</th>\n",
              "      <td>2</td>\n",
              "      <td>2</td>\n",
              "      <td>1</td>\n",
              "      <td>1</td>\n",
              "      <td>2</td>\n",
              "      <td>4</td>\n",
              "      <td>5</td>\n",
              "      <td>3</td>\n",
              "      <td>2</td>\n",
              "      <td>6</td>\n",
              "    </tr>\n",
              "    <tr>\n",
              "      <th>3</th>\n",
              "      <td>1</td>\n",
              "      <td>2</td>\n",
              "      <td>5</td>\n",
              "      <td>5</td>\n",
              "      <td>2</td>\n",
              "      <td>4</td>\n",
              "      <td>3</td>\n",
              "      <td>3</td>\n",
              "      <td>5</td>\n",
              "      <td>6</td>\n",
              "    </tr>\n",
              "    <tr>\n",
              "      <th>4</th>\n",
              "      <td>4</td>\n",
              "      <td>2</td>\n",
              "      <td>6</td>\n",
              "      <td>5</td>\n",
              "      <td>2</td>\n",
              "      <td>5</td>\n",
              "      <td>5</td>\n",
              "      <td>6</td>\n",
              "      <td>5</td>\n",
              "      <td>4</td>\n",
              "    </tr>\n",
              "    <tr>\n",
              "      <th>...</th>\n",
              "      <td>...</td>\n",
              "      <td>...</td>\n",
              "      <td>...</td>\n",
              "      <td>...</td>\n",
              "      <td>...</td>\n",
              "      <td>...</td>\n",
              "      <td>...</td>\n",
              "      <td>...</td>\n",
              "      <td>...</td>\n",
              "      <td>...</td>\n",
              "    </tr>\n",
              "    <tr>\n",
              "      <th>104</th>\n",
              "      <td>3</td>\n",
              "      <td>1</td>\n",
              "      <td>3</td>\n",
              "      <td>4</td>\n",
              "      <td>3</td>\n",
              "      <td>4</td>\n",
              "      <td>2</td>\n",
              "      <td>2</td>\n",
              "      <td>2</td>\n",
              "      <td>2</td>\n",
              "    </tr>\n",
              "    <tr>\n",
              "      <th>105</th>\n",
              "      <td>2</td>\n",
              "      <td>2</td>\n",
              "      <td>4</td>\n",
              "      <td>5</td>\n",
              "      <td>2</td>\n",
              "      <td>5</td>\n",
              "      <td>3</td>\n",
              "      <td>3</td>\n",
              "      <td>4</td>\n",
              "      <td>4</td>\n",
              "    </tr>\n",
              "    <tr>\n",
              "      <th>106</th>\n",
              "      <td>3</td>\n",
              "      <td>2</td>\n",
              "      <td>4</td>\n",
              "      <td>3</td>\n",
              "      <td>4</td>\n",
              "      <td>3</td>\n",
              "      <td>4</td>\n",
              "      <td>3</td>\n",
              "      <td>5</td>\n",
              "      <td>3</td>\n",
              "    </tr>\n",
              "    <tr>\n",
              "      <th>107</th>\n",
              "      <td>4</td>\n",
              "      <td>3</td>\n",
              "      <td>5</td>\n",
              "      <td>3</td>\n",
              "      <td>3</td>\n",
              "      <td>4</td>\n",
              "      <td>4</td>\n",
              "      <td>3</td>\n",
              "      <td>3</td>\n",
              "      <td>2</td>\n",
              "    </tr>\n",
              "    <tr>\n",
              "      <th>108</th>\n",
              "      <td>2</td>\n",
              "      <td>2</td>\n",
              "      <td>3</td>\n",
              "      <td>4</td>\n",
              "      <td>2</td>\n",
              "      <td>3</td>\n",
              "      <td>4</td>\n",
              "      <td>1</td>\n",
              "      <td>4</td>\n",
              "      <td>2</td>\n",
              "    </tr>\n",
              "  </tbody>\n",
              "</table>\n",
              "<p>109 rows × 10 columns</p>\n",
              "</div>"
            ],
            "text/plain": [
              "    sinkron tahun belajar_diluar_kuliah  ... kegiatan_nonakademik  kuota  istirahat\n",
              "0         5     2                     4  ...                    6      4          6\n",
              "1         4     2                     2  ...                    3      4          3\n",
              "2         2     2                     1  ...                    3      2          6\n",
              "3         1     2                     5  ...                    3      5          6\n",
              "4         4     2                     6  ...                    6      5          4\n",
              "..      ...   ...                   ...  ...                  ...    ...        ...\n",
              "104       3     1                     3  ...                    2      2          2\n",
              "105       2     2                     4  ...                    3      4          4\n",
              "106       3     2                     4  ...                    3      5          3\n",
              "107       4     3                     5  ...                    3      3          2\n",
              "108       2     2                     3  ...                    1      4          2\n",
              "\n",
              "[109 rows x 10 columns]"
            ]
          },
          "metadata": {
            "tags": []
          },
          "execution_count": 118
        }
      ]
    },
    {
      "cell_type": "code",
      "metadata": {
        "id": "JrpKT9mdVzlK",
        "outputId": "45d63dee-3306-4861-803c-b32a587ba6d8",
        "colab": {
          "base_uri": "https://localhost:8080/",
          "height": 1000
        }
      },
      "source": [
        "sns.pairplot(drapi)"
      ],
      "execution_count": 119,
      "outputs": [
        {
          "output_type": "execute_result",
          "data": {
            "text/plain": [
              "<seaborn.axisgrid.PairGrid at 0x7fae05593b38>"
            ]
          },
          "metadata": {
            "tags": []
          },
          "execution_count": 119
        },
        {
          "output_type": "display_data",
          "data": {
            "image/png": "[encoded data removed]",
            "text/plain": [
              "<Figure size 1800x1800 with 110 Axes>"
            ]
          },
          "metadata": {
            "tags": [],
            "needs_background": "light"
          }
        }
      ]
    },
    {
      "cell_type": "markdown",
      "metadata": {
        "id": "6VU99LrFa4TE"
      },
      "source": [
        "## **Machine Learning**"
      ]
    },
    {
      "cell_type": "markdown",
      "metadata": {
        "id": "f2aQd1BRioOo"
      },
      "source": [
        "### Regression"
      ]
    },
    {
      "cell_type": "code",
      "metadata": {
        "id": "9liUo6N1b_ZT",
        "outputId": "24f6bb5c-3bb1-42d7-cb37-8a6a54ab3a3a",
        "colab": {
          "base_uri": "https://localhost:8080/",
          "height": 328
        }
      },
      "source": [
        "df_coef"
      ],
      "execution_count": 120,
      "outputs": [
        {
          "output_type": "execute_result",
          "data": {
            "text/html": [
              "<div>\n",
              "<style scoped>\n",
              "    .dataframe tbody tr th:only-of-type {\n",
              "        vertical-align: middle;\n",
              "    }\n",
              "\n",
              "    .dataframe tbody tr th {\n",
              "        vertical-align: top;\n",
              "    }\n",
              "\n",
              "    .dataframe thead th {\n",
              "        text-align: right;\n",
              "    }\n",
              "</style>\n",
              "<table border=\"1\" class=\"dataframe\">\n",
              "  <thead>\n",
              "    <tr style=\"text-align: right;\">\n",
              "      <th></th>\n",
              "      <th>kategori</th>\n",
              "      <th>korelasi</th>\n",
              "      <th>rank</th>\n",
              "    </tr>\n",
              "  </thead>\n",
              "  <tbody>\n",
              "    <tr>\n",
              "      <th>0</th>\n",
              "      <td>kesulitan</td>\n",
              "      <td>0.038764</td>\n",
              "      <td>5.0</td>\n",
              "    </tr>\n",
              "    <tr>\n",
              "      <th>1</th>\n",
              "      <td>frekuensi_beban</td>\n",
              "      <td>-0.058168</td>\n",
              "      <td>9.0</td>\n",
              "    </tr>\n",
              "    <tr>\n",
              "      <th>2</th>\n",
              "      <td>kemudahan_akses</td>\n",
              "      <td>0.176611</td>\n",
              "      <td>1.0</td>\n",
              "    </tr>\n",
              "    <tr>\n",
              "      <th>3</th>\n",
              "      <td>kuota</td>\n",
              "      <td>0.083036</td>\n",
              "      <td>4.0</td>\n",
              "    </tr>\n",
              "    <tr>\n",
              "      <th>4</th>\n",
              "      <td>tahun_int</td>\n",
              "      <td>0.029772</td>\n",
              "      <td>6.0</td>\n",
              "    </tr>\n",
              "    <tr>\n",
              "      <th>5</th>\n",
              "      <td>belajar_diluar_kuliah_int</td>\n",
              "      <td>0.158523</td>\n",
              "      <td>2.0</td>\n",
              "    </tr>\n",
              "    <tr>\n",
              "      <th>6</th>\n",
              "      <td>asinkron_int</td>\n",
              "      <td>0.085427</td>\n",
              "      <td>3.0</td>\n",
              "    </tr>\n",
              "    <tr>\n",
              "      <th>7</th>\n",
              "      <td>kegiatan_nonakademik_int</td>\n",
              "      <td>0.001787</td>\n",
              "      <td>7.0</td>\n",
              "    </tr>\n",
              "    <tr>\n",
              "      <th>8</th>\n",
              "      <td>istirahat_int</td>\n",
              "      <td>-0.005410</td>\n",
              "      <td>8.0</td>\n",
              "    </tr>\n",
              "  </tbody>\n",
              "</table>\n",
              "</div>"
            ],
            "text/plain": [
              "                    kategori  korelasi  rank\n",
              "0                  kesulitan  0.038764   5.0\n",
              "1            frekuensi_beban -0.058168   9.0\n",
              "2            kemudahan_akses  0.176611   1.0\n",
              "3                      kuota  0.083036   4.0\n",
              "4                  tahun_int  0.029772   6.0\n",
              "5  belajar_diluar_kuliah_int  0.158523   2.0\n",
              "6               asinkron_int  0.085427   3.0\n",
              "7   kegiatan_nonakademik_int  0.001787   7.0\n",
              "8              istirahat_int -0.005410   8.0"
            ]
          },
          "metadata": {
            "tags": []
          },
          "execution_count": 120
        }
      ]
    },
    {
      "cell_type": "code",
      "metadata": {
        "id": "N3XA--k4qTBj",
        "outputId": "dca278d1-e240-4823-8e79-1972bb6e98d9",
        "colab": {
          "base_uri": "https://localhost:8080/",
          "height": 419
        }
      },
      "source": [
        "dfrapi = drapi.astype(int)\n",
        "dfrapi"
      ],
      "execution_count": 121,
      "outputs": [
        {
          "output_type": "execute_result",
          "data": {
            "text/html": [
              "<div>\n",
              "<style scoped>\n",
              "    .dataframe tbody tr th:only-of-type {\n",
              "        vertical-align: middle;\n",
              "    }\n",
              "\n",
              "    .dataframe tbody tr th {\n",
              "        vertical-align: top;\n",
              "    }\n",
              "\n",
              "    .dataframe thead th {\n",
              "        text-align: right;\n",
              "    }\n",
              "</style>\n",
              "<table border=\"1\" class=\"dataframe\">\n",
              "  <thead>\n",
              "    <tr style=\"text-align: right;\">\n",
              "      <th></th>\n",
              "      <th>sinkron</th>\n",
              "      <th>tahun</th>\n",
              "      <th>belajar_diluar_kuliah</th>\n",
              "      <th>asinkron</th>\n",
              "      <th>kesulitan</th>\n",
              "      <th>frekuensi_beban</th>\n",
              "      <th>kemudahan_akses</th>\n",
              "      <th>kegiatan_nonakademik</th>\n",
              "      <th>kuota</th>\n",
              "      <th>istirahat</th>\n",
              "    </tr>\n",
              "  </thead>\n",
              "  <tbody>\n",
              "    <tr>\n",
              "      <th>0</th>\n",
              "      <td>5</td>\n",
              "      <td>2</td>\n",
              "      <td>4</td>\n",
              "      <td>5</td>\n",
              "      <td>2</td>\n",
              "      <td>3</td>\n",
              "      <td>4</td>\n",
              "      <td>6</td>\n",
              "      <td>4</td>\n",
              "      <td>6</td>\n",
              "    </tr>\n",
              "    <tr>\n",
              "      <th>1</th>\n",
              "      <td>4</td>\n",
              "      <td>2</td>\n",
              "      <td>2</td>\n",
              "      <td>2</td>\n",
              "      <td>4</td>\n",
              "      <td>3</td>\n",
              "      <td>3</td>\n",
              "      <td>3</td>\n",
              "      <td>4</td>\n",
              "      <td>3</td>\n",
              "    </tr>\n",
              "    <tr>\n",
              "      <th>2</th>\n",
              "      <td>2</td>\n",
              "      <td>2</td>\n",
              "      <td>1</td>\n",
              "      <td>1</td>\n",
              "      <td>2</td>\n",
              "      <td>4</td>\n",
              "      <td>5</td>\n",
              "      <td>3</td>\n",
              "      <td>2</td>\n",
              "      <td>6</td>\n",
              "    </tr>\n",
              "    <tr>\n",
              "      <th>3</th>\n",
              "      <td>1</td>\n",
              "      <td>2</td>\n",
              "      <td>5</td>\n",
              "      <td>5</td>\n",
              "      <td>2</td>\n",
              "      <td>4</td>\n",
              "      <td>3</td>\n",
              "      <td>3</td>\n",
              "      <td>5</td>\n",
              "      <td>6</td>\n",
              "    </tr>\n",
              "    <tr>\n",
              "      <th>4</th>\n",
              "      <td>4</td>\n",
              "      <td>2</td>\n",
              "      <td>6</td>\n",
              "      <td>5</td>\n",
              "      <td>2</td>\n",
              "      <td>5</td>\n",
              "      <td>5</td>\n",
              "      <td>6</td>\n",
              "      <td>5</td>\n",
              "      <td>4</td>\n",
              "    </tr>\n",
              "    <tr>\n",
              "      <th>...</th>\n",
              "      <td>...</td>\n",
              "      <td>...</td>\n",
              "      <td>...</td>\n",
              "      <td>...</td>\n",
              "      <td>...</td>\n",
              "      <td>...</td>\n",
              "      <td>...</td>\n",
              "      <td>...</td>\n",
              "      <td>...</td>\n",
              "      <td>...</td>\n",
              "    </tr>\n",
              "    <tr>\n",
              "      <th>104</th>\n",
              "      <td>3</td>\n",
              "      <td>1</td>\n",
              "      <td>3</td>\n",
              "      <td>4</td>\n",
              "      <td>3</td>\n",
              "      <td>4</td>\n",
              "      <td>2</td>\n",
              "      <td>2</td>\n",
              "      <td>2</td>\n",
              "      <td>2</td>\n",
              "    </tr>\n",
              "    <tr>\n",
              "      <th>105</th>\n",
              "      <td>2</td>\n",
              "      <td>2</td>\n",
              "      <td>4</td>\n",
              "      <td>5</td>\n",
              "      <td>2</td>\n",
              "      <td>5</td>\n",
              "      <td>3</td>\n",
              "      <td>3</td>\n",
              "      <td>4</td>\n",
              "      <td>4</td>\n",
              "    </tr>\n",
              "    <tr>\n",
              "      <th>106</th>\n",
              "      <td>3</td>\n",
              "      <td>2</td>\n",
              "      <td>4</td>\n",
              "      <td>3</td>\n",
              "      <td>4</td>\n",
              "      <td>3</td>\n",
              "      <td>4</td>\n",
              "      <td>3</td>\n",
              "      <td>5</td>\n",
              "      <td>3</td>\n",
              "    </tr>\n",
              "    <tr>\n",
              "      <th>107</th>\n",
              "      <td>4</td>\n",
              "      <td>3</td>\n",
              "      <td>5</td>\n",
              "      <td>3</td>\n",
              "      <td>3</td>\n",
              "      <td>4</td>\n",
              "      <td>4</td>\n",
              "      <td>3</td>\n",
              "      <td>3</td>\n",
              "      <td>2</td>\n",
              "    </tr>\n",
              "    <tr>\n",
              "      <th>108</th>\n",
              "      <td>2</td>\n",
              "      <td>2</td>\n",
              "      <td>3</td>\n",
              "      <td>4</td>\n",
              "      <td>2</td>\n",
              "      <td>3</td>\n",
              "      <td>4</td>\n",
              "      <td>1</td>\n",
              "      <td>4</td>\n",
              "      <td>2</td>\n",
              "    </tr>\n",
              "  </tbody>\n",
              "</table>\n",
              "<p>109 rows × 10 columns</p>\n",
              "</div>"
            ],
            "text/plain": [
              "     sinkron  tahun  ...  kuota  istirahat\n",
              "0          5      2  ...      4          6\n",
              "1          4      2  ...      4          3\n",
              "2          2      2  ...      2          6\n",
              "3          1      2  ...      5          6\n",
              "4          4      2  ...      5          4\n",
              "..       ...    ...  ...    ...        ...\n",
              "104        3      1  ...      2          2\n",
              "105        2      2  ...      4          4\n",
              "106        3      2  ...      5          3\n",
              "107        4      3  ...      3          2\n",
              "108        2      2  ...      4          2\n",
              "\n",
              "[109 rows x 10 columns]"
            ]
          },
          "metadata": {
            "tags": []
          },
          "execution_count": 121
        }
      ]
    },
    {
      "cell_type": "code",
      "metadata": {
        "id": "uA46TI0oynoZ"
      },
      "source": [
        ""
      ],
      "execution_count": 121,
      "outputs": []
    },
    {
      "cell_type": "code",
      "metadata": {
        "id": "g78p43KHZmku",
        "outputId": "135ad44c-3956-45c4-cc9d-bd4fba1ed7ed",
        "colab": {
          "base_uri": "https://localhost:8080/"
        }
      },
      "source": [
        "# LinearRegression\n",
        "import sklearn\n",
        "\n",
        "\n",
        "from sklearn.model_selection import train_test_split\n",
        "from sklearn.linear_model import LinearRegression\n",
        "from sklearn.metrics import mean_squared_error as mse\n",
        "\n",
        "X = dfrapi[['kemudahan_akses','belajar_diluar_kuliah','asinkron','kuota','kesulitan','frekuensi_beban']]\n",
        "#X = drapi.drop('sinkron',axis=1)\n",
        "X_train,X_test,Y_train,Y_test = train_test_split(X,dfrapi.sinkron,random_state=0,test_size=20)\n",
        "\n",
        "lreg = LinearRegression(normalize=True,fit_intercept=True)\n",
        "lreg.fit(X_train,Y_train)\n",
        "\n",
        "pred_train = lreg.predict(X_train)\n",
        "pred_test  = lreg.predict(X_test)\n",
        "\n",
        "pred_train = [i for i in pred_train]\n",
        "pred_test  = [i for i in pred_test]\n",
        "\n",
        "train = mse(pred_train,Y_train)\n",
        "test  = mse(pred_test,Y_test)\n",
        "print(train,test)"
      ],
      "execution_count": 122,
      "outputs": [
        {
          "output_type": "stream",
          "text": [
            "0.9731252828658381 0.6713430090759609\n"
          ],
          "name": "stdout"
        }
      ]
    },
    {
      "cell_type": "markdown",
      "metadata": {
        "id": "EPk5lQRZyi14"
      },
      "source": [
        "Di pilih beberapa variable untuk menjadi dependent variable. Untuk memprediksi model"
      ]
    },
    {
      "cell_type": "code",
      "metadata": {
        "id": "xRc9dX90uhdD",
        "outputId": "a6951209-c27d-4390-951d-66a9314c0fcd",
        "colab": {
          "base_uri": "https://localhost:8080/"
        }
      },
      "source": [
        "X.shape"
      ],
      "execution_count": 123,
      "outputs": [
        {
          "output_type": "execute_result",
          "data": {
            "text/plain": [
              "(109, 6)"
            ]
          },
          "metadata": {
            "tags": []
          },
          "execution_count": 123
        }
      ]
    },
    {
      "cell_type": "code",
      "metadata": {
        "id": "nHzaD4NZdypU",
        "outputId": "5da4d335-5f92-441a-aa36-990ea8159598",
        "colab": {
          "base_uri": "https://localhost:8080/"
        }
      },
      "source": [
        "np.mean((Y_train-pred_train)**2)"
      ],
      "execution_count": 124,
      "outputs": [
        {
          "output_type": "execute_result",
          "data": {
            "text/plain": [
              "0.973125282865838"
            ]
          },
          "metadata": {
            "tags": []
          },
          "execution_count": 124
        }
      ]
    },
    {
      "cell_type": "code",
      "metadata": {
        "id": "0yAjaBY4gURJ",
        "outputId": "84c581fc-d03a-46b8-b391-fd974b1a5d08",
        "colab": {
          "base_uri": "https://localhost:8080/"
        }
      },
      "source": [
        "a = np.mean((pred_test-Y_test)**2)\n",
        "print('MSE = ',a,)"
      ],
      "execution_count": 125,
      "outputs": [
        {
          "output_type": "stream",
          "text": [
            "MSE =  0.671343009075961\n"
          ],
          "name": "stdout"
        }
      ]
    },
    {
      "cell_type": "code",
      "metadata": {
        "id": "M3EpBeiBlXpN",
        "outputId": "3253c5e5-7f9e-424e-ec04-881336a4a4f9",
        "colab": {
          "base_uri": "https://localhost:8080/",
          "height": 445
        }
      },
      "source": [
        "a,b = X_train.shape\n",
        "xline_train = np.arange(0,a,1)\n",
        "\n",
        "plt.figure(figsize=(14,7))\n",
        "plt.scatter(np.array(xline_train),np.array(Y_train),alpha=0.5,label='train')\n",
        "plt.plot(np.array(xline_train),np.array(pred_train),c='r',alpha=0.5,label='prediksi model')\n",
        "plt.grid()\n",
        "plt.legend()"
      ],
      "execution_count": 126,
      "outputs": [
        {
          "output_type": "execute_result",
          "data": {
            "text/plain": [
              "<matplotlib.legend.Legend at 0x7fae0360bcc0>"
            ]
          },
          "metadata": {
            "tags": []
          },
          "execution_count": 126
        },
        {
          "output_type": "display_data",
          "data": {
            "image/png": "[encoded data removed]",
            "text/plain": [
              "<Figure size 1008x504 with 1 Axes>"
            ]
          },
          "metadata": {
            "tags": [],
            "needs_background": "light"
          }
        }
      ]
    },
    {
      "cell_type": "code",
      "metadata": {
        "id": "iTR0-BGRgg5G",
        "outputId": "6b34e7bd-7b44-4489-ad0c-4b6fa8a42ebb",
        "colab": {
          "base_uri": "https://localhost:8080/",
          "height": 462
        }
      },
      "source": [
        "a,b = X_test.shape\n",
        "xline_test = np.arange(0,a,1)\n",
        "\n",
        "plt.figure(figsize=(14,7))\n",
        "plt.scatter(np.array(xline_test),np.array(Y_test),alpha=0.5,label='data test')\n",
        "plt.plot(np.array(xline_test),np.array(pred_test),c='r',alpha=0.5,label='prediksi',marker='o')\n",
        "plt.scatter(0,0,alpha=0,label='MSE'+'='+str(np.mean((pred_test-Y_test)**2)))\n",
        "plt.ylabel('Sinkron')\n",
        "plt.grid()\n",
        "plt.legend(loc=3)\n",
        "\n",
        "print('MSE : ',np.mean((pred_test-Y_test)**2))\n",
        "jumlah = 0\n",
        "pred = np.array(pred_test)\n",
        "asli = np.array(Y_test)\n",
        "\n",
        "for i in range(len(pred_test)):\n",
        "  jumlah += (pred[i]-asli[i])**2\n",
        "jumlah = jumlah/len(pred_test)\n",
        "jumlah"
      ],
      "execution_count": 127,
      "outputs": [
        {
          "output_type": "stream",
          "text": [
            "MSE :  0.671343009075961\n"
          ],
          "name": "stdout"
        },
        {
          "output_type": "execute_result",
          "data": {
            "text/plain": [
              "0.671343009075961"
            ]
          },
          "metadata": {
            "tags": []
          },
          "execution_count": 127
        },
        {
          "output_type": "display_data",
          "data": {
            "image/png": "[encoded data removed]",
            "text/plain": [
              "<Figure size 1008x504 with 1 Axes>"
            ]
          },
          "metadata": {
            "tags": [],
            "needs_background": "light"
          }
        }
      ]
    },
    {
      "cell_type": "markdown",
      "metadata": {
        "id": "6dg-FOg3yX9W"
      },
      "source": [
        "Diatas merupakan hasil Prediksi dari model kita, menggunakan pendekatan Multivariate Regression. MSE: 0.5"
      ]
    },
    {
      "cell_type": "markdown",
      "metadata": {
        "id": "SaEy0p8gitYe"
      },
      "source": [
        "#### Residual"
      ]
    },
    {
      "cell_type": "code",
      "metadata": {
        "id": "32oCODJiiwkq",
        "outputId": "085cdbf5-2bdf-4d7f-c641-653f55f43b79",
        "colab": {
          "base_uri": "https://localhost:8080/",
          "height": 428
        }
      },
      "source": [
        "plt.figure(figsize=(14,7))\n",
        "train_plot = plt.scatter(pred_train,(pred_train-Y_train),alpha=0.5)\n",
        "plot   = plt.scatter(pred_test,(pred_test-Y_test),c='r',alpha=0.5)\n",
        "\n",
        "\n",
        "plt.hlines(y=0,xmin=0,xmax=5)\n",
        "#plt.subplots(1,2,1)\n",
        "train_residu = np.mean(pred_train-Y_train)\n"
      ],
      "execution_count": 128,
      "outputs": [
        {
          "output_type": "display_data",
          "data": {
            "image/png": "[encoded data removed]",
            "text/plain": [
              "<Figure size 1008x504 with 1 Axes>"
            ]
          },
          "metadata": {
            "tags": [],
            "needs_background": "light"
          }
        }
      ]
    },
    {
      "cell_type": "code",
      "metadata": {
        "id": "APkGoBolKNSA",
        "outputId": "2a13ff34-87f1-4c35-c757-b50c26ee1a80",
        "colab": {
          "base_uri": "https://localhost:8080/",
          "height": 513
        }
      },
      "source": [
        "plt.figure(figsize=(14,7))\n",
        "sns.distplot((Y_test-pred_test))"
      ],
      "execution_count": 129,
      "outputs": [
        {
          "output_type": "stream",
          "text": [
            "/usr/local/lib/python3.6/dist-packages/seaborn/distributions.py:2551: FutureWarning: `distplot` is a deprecated function and will be removed in a future version. Please adapt your code to use either `displot` (a figure-level function with similar flexibility) or `histplot` (an axes-level function for histograms).\n",
            "  warnings.warn(msg, FutureWarning)\n"
          ],
          "name": "stderr"
        },
        {
          "output_type": "execute_result",
          "data": {
            "text/plain": [
              "<matplotlib.axes._subplots.AxesSubplot at 0x7fae0411bfd0>"
            ]
          },
          "metadata": {
            "tags": []
          },
          "execution_count": 129
        },
        {
          "output_type": "display_data",
          "data": {
            "image/png": "[encoded data removed]",
            "text/plain": [
              "<Figure size 1008x504 with 1 Axes>"
            ]
          },
          "metadata": {
            "tags": [],
            "needs_background": "light"
          }
        }
      ]
    },
    {
      "cell_type": "markdown",
      "metadata": {
        "id": "knvJkUh8zO3M"
      },
      "source": [
        "Di atas merupakan plot dari residu, residu = error dari prediksi... jadi jika residu mendekati 0, maka model dinilai baik, akan tetapi model kita belum seperti itu. Lalu, dibawahnya ada distribusi dari residu, jika berbentuk mendekati distribusi normal, makan algoritma regressi bisa di gunakan"
      ]
    },
    {
      "cell_type": "markdown",
      "metadata": {
        "id": "KfvOBeWatK8p"
      },
      "source": [
        "#### Predictor"
      ]
    },
    {
      "cell_type": "code",
      "metadata": {
        "id": "EWDsp2rNKJ-T",
        "outputId": "b2c16c40-b08e-4fe3-de8c-590f2e58900c",
        "colab": {
          "base_uri": "https://localhost:8080/"
        }
      },
      "source": [
        "df_dic_sinkron.columns"
      ],
      "execution_count": 130,
      "outputs": [
        {
          "output_type": "execute_result",
          "data": {
            "text/plain": [
              "Index(['Kategori', 'Penjelasan'], dtype='object')"
            ]
          },
          "metadata": {
            "tags": []
          },
          "execution_count": 130
        }
      ]
    },
    {
      "cell_type": "code",
      "metadata": {
        "id": "ga6Qt9Tzoc6W",
        "outputId": "1a01a5fe-3503-476a-bcbe-95174cb89ab0",
        "colab": {
          "base_uri": "https://localhost:8080/"
        }
      },
      "source": [
        "def fpredict(a):\n",
        "  return df_dic_sinkron.loc[df_dic_sinkron['Kategori']==a]\n",
        "  \n",
        "X.columns"
      ],
      "execution_count": 131,
      "outputs": [
        {
          "output_type": "execute_result",
          "data": {
            "text/plain": [
              "Index(['kemudahan_akses', 'belajar_diluar_kuliah', 'asinkron', 'kuota',\n",
              "       'kesulitan', 'frekuensi_beban'],\n",
              "      dtype='object')"
            ]
          },
          "metadata": {
            "tags": []
          },
          "execution_count": 131
        }
      ]
    },
    {
      "cell_type": "code",
      "metadata": {
        "id": "5Oqusx1n2phv"
      },
      "source": [
        "objek = [2,3,4,1,2,1]\n",
        "a = np.array([objek])"
      ],
      "execution_count": 132,
      "outputs": []
    },
    {
      "cell_type": "code",
      "metadata": {
        "id": "xO_b6y-Ir_H9",
        "outputId": "6dc66f7c-4441-4732-914b-5f93878540ca",
        "colab": {
          "base_uri": "https://localhost:8080/"
        }
      },
      "source": [
        "predict = str(int(lreg.predict(a)))\n",
        "print(fpredict(predict))"
      ],
      "execution_count": 133,
      "outputs": [
        {
          "output_type": "stream",
          "text": [
            "  Kategori Penjelasan\n",
            "1        2   21 - 40%\n"
          ],
          "name": "stdout"
        }
      ]
    },
    {
      "cell_type": "code",
      "metadata": {
        "id": "jCAFAP7DROLh",
        "outputId": "5491d6f9-5014-4ded-da01-2e19aa32f469",
        "colab": {
          "base_uri": "https://localhost:8080/"
        }
      },
      "source": [
        "corr = lreg.intercept_\n",
        "coef = lreg.coef_\n",
        "prediksi = 0\n",
        "for i in range(6):\n",
        "  prediksi += objek[i]*coef[i]\n",
        "prediksi = prediksi + lreg.intercept_\n",
        "prediksi\n",
        "print(lreg.coef_,lreg.intercept_)"
      ],
      "execution_count": 134,
      "outputs": [
        {
          "output_type": "stream",
          "text": [
            "[ 0.23866131  0.13785425  0.01595869 -0.01461975  0.10155604 -0.0244    ] 1.6458559307946186\n"
          ],
          "name": "stdout"
        }
      ]
    },
    {
      "cell_type": "code",
      "metadata": {
        "id": "_wdoYpzyvi7Y",
        "outputId": "45641e55-9239-42c1-9502-c826fb74af4c",
        "colab": {
          "base_uri": "https://localhost:8080/"
        }
      },
      "source": [
        "predict_ = str(int(lreg.predict(a)))\n",
        "print(fpredict(predict))"
      ],
      "execution_count": 135,
      "outputs": [
        {
          "output_type": "stream",
          "text": [
            "  Kategori Penjelasan\n",
            "1        2   21 - 40%\n"
          ],
          "name": "stdout"
        }
      ]
    },
    {
      "cell_type": "code",
      "metadata": {
        "id": "6o5-02tdPvfI",
        "outputId": "cd0e7328-7ee8-4b1a-d81d-5fd96b6cc966",
        "colab": {
          "base_uri": "https://localhost:8080/"
        }
      },
      "source": [
        "X.columns"
      ],
      "execution_count": 136,
      "outputs": [
        {
          "output_type": "execute_result",
          "data": {
            "text/plain": [
              "Index(['kemudahan_akses', 'belajar_diluar_kuliah', 'asinkron', 'kuota',\n",
              "       'kesulitan', 'frekuensi_beban'],\n",
              "      dtype='object')"
            ]
          },
          "metadata": {
            "tags": []
          },
          "execution_count": 136
        }
      ]
    },
    {
      "cell_type": "code",
      "metadata": {
        "id": "wdQ-hcRUq72F",
        "outputId": "425aecc8-d87c-4dad-c9d1-ac493c4929b6",
        "colab": {
          "base_uri": "https://localhost:8080/",
          "height": 639
        }
      },
      "source": [
        "import operator\n",
        "\n",
        "import numpy as np\n",
        "import matplotlib.pyplot as plt\n",
        "\n",
        "from sklearn.linear_model import LinearRegression\n",
        "from sklearn.metrics import mean_squared_error, r2_score\n",
        "from sklearn.preprocessing import PolynomialFeatures\n",
        "\n",
        "np.random.seed(0)\n",
        "x = 2 - 3 * np.random.normal(0, 1, 20)\n",
        "y = x - 2 * (x ** 2) + 0.5 * (x ** 3) + np.random.normal(-3, 3, 20)\n",
        "\n",
        "# transforming the data to include another axis\n",
        "x = x[:, np.newaxis]\n",
        "y = y[:, np.newaxis]\n",
        "\n",
        "polynomial_features= PolynomialFeatures(degree=2)\n",
        "x_poly = polynomial_features.fit_transform(x)\n",
        "\n",
        "model = LinearRegression()\n",
        "model.fit(x_poly, y)\n",
        "y_poly_pred = model.predict(x_poly)\n",
        "\n",
        "rmse = np.sqrt(mean_squared_error(y,y_poly_pred))\n",
        "r2 = r2_score(y,y_poly_pred)\n",
        "print(rmse)\n",
        "print(r2)\n",
        "\n",
        "plt.scatter(x, y, s=10)\n",
        "# sort the values of x before line plot\n",
        "sort_axis = operator.itemgetter(0)\n",
        "sorted_zip = sorted(zip(x,y_poly_pred), key=sort_axis)\n",
        "x, y_poly_pred = zip(*sorted_zip)\n",
        "plt.plot(x, y_poly_pred, color='m')\n",
        "plt.show()\n",
        "y\n"
      ],
      "execution_count": 137,
      "outputs": [
        {
          "output_type": "stream",
          "text": [
            "10.120437473614711\n",
            "0.8537647164420812\n"
          ],
          "name": "stdout"
        },
        {
          "output_type": "display_data",
          "data": {
            "image/png": "[encoded data removed]",
            "text/plain": [
              "<Figure size 432x288 with 1 Axes>"
            ]
          },
          "metadata": {
            "tags": [],
            "needs_background": "light"
          }
        },
        {
          "output_type": "execute_result",
          "data": {
            "text/plain": [
              "array([[ -53.46841187],\n",
              "       [  -1.26255958],\n",
              "       [  -3.50619264],\n",
              "       [-107.22320039],\n",
              "       [ -49.13195018],\n",
              "       [   8.90122353],\n",
              "       [  -5.46624176],\n",
              "       [  -5.76263165],\n",
              "       [  -0.60058568],\n",
              "       [   1.2226779 ],\n",
              "       [  -3.95663744],\n",
              "       [ -21.98989452],\n",
              "       [  -6.11812275],\n",
              "       [ -10.46843964],\n",
              "       [  -4.11955719],\n",
              "       [  -3.02941914],\n",
              "       [ -21.76152272],\n",
              "       [  -1.51295226],\n",
              "       [  -4.75491157],\n",
              "       [   6.50723268]])"
            ]
          },
          "metadata": {
            "tags": []
          },
          "execution_count": 137
        }
      ]
    },
    {
      "cell_type": "markdown",
      "metadata": {
        "id": "diVHVDLrWVgY"
      },
      "source": [
        "#### KNN Regressor"
      ]
    },
    {
      "cell_type": "code",
      "metadata": {
        "id": "ZC5w2lir6cBW",
        "outputId": "e3a24fa8-7bfc-48b5-848c-444f84f04a2f",
        "colab": {
          "base_uri": "https://localhost:8080/",
          "height": 445
        }
      },
      "source": [
        "from sklearn.neighbors import KNeighborsRegressor\n",
        "\n",
        "neigh = KNeighborsRegressor(n_neighbors=5)\n",
        "neigh.fit(X_train, Y_train)\n",
        "y = neigh.predict(X_train)\n",
        "\n",
        "plt.figure(figsize=(14,7))\n",
        "plt.scatter(np.array(xline_train),np.array(Y_train),alpha=0.5,label='data test')\n",
        "plt.plot(np.array(xline_train),y,c='r',label='prediksi')\n",
        "#plt.scatter(0,0,alpha=0,label=str(mse(Y_test,y)))\n",
        "plt.legend()\n"
      ],
      "execution_count": 138,
      "outputs": [
        {
          "output_type": "execute_result",
          "data": {
            "text/plain": [
              "<matplotlib.legend.Legend at 0x7fae02eb9eb8>"
            ]
          },
          "metadata": {
            "tags": []
          },
          "execution_count": 138
        },
        {
          "output_type": "display_data",
          "data": {
            "image/png": "[encoded data removed]",
            "text/plain": [
              "<Figure size 1008x504 with 1 Axes>"
            ]
          },
          "metadata": {
            "tags": [],
            "needs_background": "light"
          }
        }
      ]
    },
    {
      "cell_type": "code",
      "metadata": {
        "id": "cI54bz1q6u6U",
        "outputId": "ae5013d5-0cf6-4976-99a0-aac4c66ecbe6",
        "colab": {
          "base_uri": "https://localhost:8080/",
          "height": 462
        }
      },
      "source": [
        "y = neigh.predict(X_test)\n",
        "plt.figure(figsize=(14,7))\n",
        "plt.scatter(np.array(xline_test),np.array(Y_test),alpha=0.5,label='data test')\n",
        "plt.plot(np.array(xline_test),y,c='r',label='prediksi')\n",
        "plt.scatter(0,0,alpha=0,label=str(mse(Y_test,y)))\n",
        "plt.legend()\n",
        "predict = str(int(neigh.predict(a)))\n",
        "print(fpredict(predict))"
      ],
      "execution_count": 139,
      "outputs": [
        {
          "output_type": "stream",
          "text": [
            "  Kategori Penjelasan\n",
            "1        2   21 - 40%\n"
          ],
          "name": "stdout"
        },
        {
          "output_type": "display_data",
          "data": {
            "image/png": "[encoded data removed]",
            "text/plain": [
              "<Figure size 1008x504 with 1 Axes>"
            ]
          },
          "metadata": {
            "tags": [],
            "needs_background": "light"
          }
        }
      ]
    },
    {
      "cell_type": "markdown",
      "metadata": {
        "id": "CxNTsIvWzmOG"
      },
      "source": [
        "Regressi menggunakan KNN-Regressor merupakan model yang cukup baik, lebih baik dari pada model lain. karena memiliki mse yang sedikit"
      ]
    },
    {
      "cell_type": "markdown",
      "metadata": {
        "id": "PmSlyUZ0XYL9"
      },
      "source": [
        "#### DecesionTree Regressor"
      ]
    },
    {
      "cell_type": "code",
      "metadata": {
        "id": "Qg6wuslSXf5o"
      },
      "source": [
        "from sklearn.tree import DecisionTreeRegressor\n"
      ],
      "execution_count": 140,
      "outputs": []
    },
    {
      "cell_type": "code",
      "metadata": {
        "id": "6yn5BaILYBiO",
        "outputId": "ac711b8c-694b-45de-b005-0f57aa44f042",
        "colab": {
          "base_uri": "https://localhost:8080/"
        }
      },
      "source": [
        "#Multivariate Polynomial Regression\n",
        "dtreg = DecisionTreeRegressor(random_state=0,max_leaf_nodes=5)\n",
        "dtreg.fit(X_train,Y_train)\n",
        "\n",
        "y_dt_pred = dtreg.predict(X_test)\n",
        "\n",
        "mse(Y_test,y_dt_pred)"
      ],
      "execution_count": 141,
      "outputs": [
        {
          "output_type": "execute_result",
          "data": {
            "text/plain": [
              "0.662629135802469"
            ]
          },
          "metadata": {
            "tags": []
          },
          "execution_count": 141
        }
      ]
    },
    {
      "cell_type": "code",
      "metadata": {
        "id": "OZO7W7tMa9hK",
        "outputId": "3e6ebcd5-22a3-4f5b-ecdb-180c9c441567",
        "colab": {
          "base_uri": "https://localhost:8080/",
          "height": 282
        }
      },
      "source": [
        "plt.scatter(np.array(xline_test),np.array(Y_test),alpha=0.5,label='data test')\n",
        "plt.plot(np.array(xline_test),np.array(y_dt_pred),c='r',alpha=0.5,label='prediksi',marker='o')"
      ],
      "execution_count": 142,
      "outputs": [
        {
          "output_type": "execute_result",
          "data": {
            "text/plain": [
              "[<matplotlib.lines.Line2D at 0x7fae02f286a0>]"
            ]
          },
          "metadata": {
            "tags": []
          },
          "execution_count": 142
        },
        {
          "output_type": "display_data",
          "data": {
            "image/png": "[encoded data removed]",
            "text/plain": [
              "<Figure size 432x288 with 1 Axes>"
            ]
          },
          "metadata": {
            "tags": [],
            "needs_background": "light"
          }
        }
      ]
    },
    {
      "cell_type": "markdown",
      "metadata": {
        "id": "Ccynayq4nvS9"
      },
      "source": [
        "#### K MEANS"
      ]
    },
    {
      "cell_type": "code",
      "metadata": {
        "id": "XS4rcT2ncXsF",
        "outputId": "6d612371-3ffd-4c93-e5bb-5970e3319fe7",
        "colab": {
          "base_uri": "https://localhost:8080/",
          "height": 445
        }
      },
      "source": [
        "plt.figure(figsize=(14,7))\n",
        "a,b = X_test.shape\n",
        "xmeans_line = np.arange(0,a,1)\n",
        "plt.scatter(xmeans_line,np.array(Y_test),label='train',c=Y_test,cmap='rainbow')"
      ],
      "execution_count": 143,
      "outputs": [
        {
          "output_type": "execute_result",
          "data": {
            "text/plain": [
              "<matplotlib.collections.PathCollection at 0x7fae02d13320>"
            ]
          },
          "metadata": {
            "tags": []
          },
          "execution_count": 143
        },
        {
          "output_type": "display_data",
          "data": {
            "image/png": "[encoded data removed]",
            "text/plain": [
              "<Figure size 1008x504 with 1 Axes>"
            ]
          },
          "metadata": {
            "tags": [],
            "needs_background": "light"
          }
        }
      ]
    },
    {
      "cell_type": "code",
      "metadata": {
        "id": "b7SdOoE2c-OQ"
      },
      "source": [
        "from sklearn.cluster import KMeans"
      ],
      "execution_count": 144,
      "outputs": []
    },
    {
      "cell_type": "code",
      "metadata": {
        "id": "m6VcCcDCdCnS"
      },
      "source": [
        "kmeans = KMeans(n_clusters = 5)"
      ],
      "execution_count": 145,
      "outputs": []
    },
    {
      "cell_type": "code",
      "metadata": {
        "id": "e6EmoCKDo3ep",
        "outputId": "199bb4cc-d191-435b-ab7a-249b3664241b",
        "colab": {
          "base_uri": "https://localhost:8080/"
        }
      },
      "source": [
        "\n",
        "kmeans.fit(X_test)\n",
        "kmeans.cluster_centers_"
      ],
      "execution_count": 146,
      "outputs": [
        {
          "output_type": "execute_result",
          "data": {
            "text/plain": [
              "array([[4.66666667, 5.        , 2.33333333, 4.66666667, 1.33333333,\n",
              "        4.66666667],\n",
              "       [4.22222222, 1.88888889, 2.22222222, 3.44444444, 2.33333333,\n",
              "        4.33333333],\n",
              "       [3.33333333, 4.        , 4.        , 3.66666667, 1.66666667,\n",
              "        4.66666667],\n",
              "       [2.        , 2.        , 2.5       , 4.        , 2.5       ,\n",
              "        2.5       ],\n",
              "       [4.33333333, 2.66666667, 3.66666667, 4.        , 1.66666667,\n",
              "        2.        ]])"
            ]
          },
          "metadata": {
            "tags": []
          },
          "execution_count": 146
        }
      ]
    },
    {
      "cell_type": "code",
      "metadata": {
        "id": "46DNFB5Bo_WE",
        "outputId": "7fab44c6-b7e9-4076-b58f-c613e4520eed",
        "colab": {
          "base_uri": "https://localhost:8080/",
          "height": 462
        }
      },
      "source": [
        "plt.figure(figsize=(14,7))\n",
        "ymeans_predict=kmeans.labels_\n",
        "plt.scatter(xmeans_line,np.array(Y_test),alpha=0.8,label='train',c=ymeans_predict,cmap='rainbow')\n",
        "kmeans.labels_"
      ],
      "execution_count": 147,
      "outputs": [
        {
          "output_type": "execute_result",
          "data": {
            "text/plain": [
              "array([3, 1, 1, 1, 4, 2, 4, 2, 3, 1, 0, 1, 1, 1, 0, 2, 1, 1, 0, 4],\n",
              "      dtype=int32)"
            ]
          },
          "metadata": {
            "tags": []
          },
          "execution_count": 147
        },
        {
          "output_type": "display_data",
          "data": {
            "image/png": "[encoded data removed]",
            "text/plain": [
              "<Figure size 1008x504 with 1 Axes>"
            ]
          },
          "metadata": {
            "tags": [],
            "needs_background": "light"
          }
        }
      ]
    },
    {
      "cell_type": "code",
      "metadata": {
        "id": "qutpTQ_1-IGS",
        "outputId": "264e37fe-1346-48a8-8005-8fb82c55b4ac",
        "colab": {
          "base_uri": "https://localhost:8080/",
          "height": 407
        }
      },
      "source": [
        "fig, (ax1,ax2) = plt.subplots(1,2,sharey=True,figsize=(10,6))\n",
        "\n",
        "ax1.set_title('K Means')\n",
        "ax1.scatter(xmeans_line,np.array(Y_test),alpha=0.8,label='train',c=ymeans_predict,cmap='rainbow')\n",
        "\n",
        "ax2.set_title('Original')\n",
        "ax2.scatter(xmeans_line,np.array(Y_test),label='train',c=Y_test,cmap='rainbow',alpha=0.8)"
      ],
      "execution_count": 148,
      "outputs": [
        {
          "output_type": "execute_result",
          "data": {
            "text/plain": [
              "<matplotlib.collections.PathCollection at 0x7fae02c14ac8>"
            ]
          },
          "metadata": {
            "tags": []
          },
          "execution_count": 148
        },
        {
          "output_type": "display_data",
          "data": {
            "image/png": "[encoded data removed]",
            "text/plain": [
              "<Figure size 720x432 with 2 Axes>"
            ]
          },
          "metadata": {
            "tags": [],
            "needs_background": "light"
          }
        }
      ]
    },
    {
      "cell_type": "markdown",
      "metadata": {
        "id": "3xvN6ScszvVw"
      },
      "source": [
        "Di atas merupakan hasil dari KMEANS, kita bisa lihat bahwa algoritma belum mampu memprediksi secara baik dari label data (sinkron)"
      ]
    },
    {
      "cell_type": "code",
      "metadata": {
        "id": "Z0UFOzvDpTOE",
        "outputId": "ad037eea-e957-49a3-fa8d-fb4f8bb01620",
        "colab": {
          "base_uri": "https://localhost:8080/"
        }
      },
      "source": [
        "pred = ymeans_predict + 1\n",
        "pred"
      ],
      "execution_count": 149,
      "outputs": [
        {
          "output_type": "execute_result",
          "data": {
            "text/plain": [
              "array([4, 2, 2, 2, 5, 3, 5, 3, 4, 2, 1, 2, 2, 2, 1, 3, 2, 2, 1, 5],\n",
              "      dtype=int32)"
            ]
          },
          "metadata": {
            "tags": []
          },
          "execution_count": 149
        }
      ]
    },
    {
      "cell_type": "code",
      "metadata": {
        "id": "Z3tRJF2duN9q",
        "outputId": "9ddcac19-4d27-4a71-c78f-cb6b9a91364c",
        "colab": {
          "base_uri": "https://localhost:8080/"
        }
      },
      "source": [
        "real = np.array(Y_test)\n",
        "real"
      ],
      "execution_count": 150,
      "outputs": [
        {
          "output_type": "execute_result",
          "data": {
            "text/plain": [
              "array([3, 2, 2, 2, 5, 3, 2, 3, 4, 3, 3, 3, 4, 3, 2, 3, 4, 3, 3, 3])"
            ]
          },
          "metadata": {
            "tags": []
          },
          "execution_count": 150
        }
      ]
    },
    {
      "cell_type": "code",
      "metadata": {
        "id": "tF2bT00PuYqo",
        "outputId": "b59ae159-f47f-4c94-c169-3c41f87345cb",
        "colab": {
          "base_uri": "https://localhost:8080/"
        }
      },
      "source": [
        "dic ={\n",
        "    'real_' : real,\n",
        "    'pred_' : ymeans_predict + 1 \n",
        "}\n",
        "\n",
        "df_val = pd.DataFrame(dic)\n",
        "a = []\n",
        "for i in range(len(df_val.real_)):\n",
        "  if df_val.real_[i] == df_val.pred_[i]:\n",
        "    b = 1\n",
        "    a.append(b)\n",
        "  else :\n",
        "    b = 0\n",
        "    a.append(b)\n",
        "df_val['score']= [int(i) for i in a]\n",
        "df_val\n",
        "\n",
        "df_val.mean()"
      ],
      "execution_count": 151,
      "outputs": [
        {
          "output_type": "execute_result",
          "data": {
            "text/plain": [
              "real_    3.00\n",
              "pred_    2.65\n",
              "score    0.40\n",
              "dtype: float64"
            ]
          },
          "metadata": {
            "tags": []
          },
          "execution_count": 151
        }
      ]
    },
    {
      "cell_type": "code",
      "metadata": {
        "id": "s4oD007bvsz3"
      },
      "source": [
        ""
      ],
      "execution_count": 151,
      "outputs": []
    },
    {
      "cell_type": "code",
      "metadata": {
        "id": "4tfo5hHWyT_G",
        "outputId": "e0da21a4-b9af-4715-f9ae-2982302e470b",
        "colab": {
          "base_uri": "https://localhost:8080/",
          "height": 49
        }
      },
      "source": [
        "df_val[50:108]"
      ],
      "execution_count": 152,
      "outputs": [
        {
          "output_type": "execute_result",
          "data": {
            "text/html": [
              "<div>\n",
              "<style scoped>\n",
              "    .dataframe tbody tr th:only-of-type {\n",
              "        vertical-align: middle;\n",
              "    }\n",
              "\n",
              "    .dataframe tbody tr th {\n",
              "        vertical-align: top;\n",
              "    }\n",
              "\n",
              "    .dataframe thead th {\n",
              "        text-align: right;\n",
              "    }\n",
              "</style>\n",
              "<table border=\"1\" class=\"dataframe\">\n",
              "  <thead>\n",
              "    <tr style=\"text-align: right;\">\n",
              "      <th></th>\n",
              "      <th>real_</th>\n",
              "      <th>pred_</th>\n",
              "      <th>score</th>\n",
              "    </tr>\n",
              "  </thead>\n",
              "  <tbody>\n",
              "  </tbody>\n",
              "</table>\n",
              "</div>"
            ],
            "text/plain": [
              "Empty DataFrame\n",
              "Columns: [real_, pred_, score]\n",
              "Index: []"
            ]
          },
          "metadata": {
            "tags": []
          },
          "execution_count": 152
        }
      ]
    },
    {
      "cell_type": "code",
      "metadata": {
        "id": "PNyBaXuZzOg7"
      },
      "source": [
        ""
      ],
      "execution_count": 152,
      "outputs": []
    }
  ]
}